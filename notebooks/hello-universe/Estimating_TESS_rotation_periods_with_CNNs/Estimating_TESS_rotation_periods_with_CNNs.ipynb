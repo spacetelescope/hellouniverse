{
 "cells": [
  {
   "attachments": {},
   "cell_type": "markdown",
   "id": "0d30c40a",
   "metadata": {},
   "source": [
    "# Estimating TESS rotation periods with CNNs"
   ]
  },
  {
   "attachments": {},
   "cell_type": "markdown",
   "id": "cb9b70ac",
   "metadata": {},
   "source": [
    "## Introduction\n",
    "\n",
    "The NASA TESS mission conducts an all-sky survey searching for exoplanets that transit their host stars. To do so, it collects time series photometry called \"light curves\" for millions of stars across the sky. These light curves have many science uses besides exoplanets, including stellar rotation. As a star rotates, cool magnetic spots come into and out of view, causing periodic wiggles in the brighness measurements through time. We can therefore use light curves from TESS to infer stellar rotation periods, which are useful for studying stellar magnetism, structure, and ages. \n",
    "\n",
    "However, systematics associated with the telescope's special Earth-Moon orbit make it difficult to measure long (> 13 day) rotation periods from TESS light curves using conventional frequency analysis techniques. Machine learning methods, and in particular Convolutional Neural Networks (CNN) have been shown to circumvent some of the effects of systematics and estimate rotation periods from TESS light curves and their frequency transforms.\n",
    "\n",
    "In this tutorial we will use a CNN to estimate stellar rotation periods from frequency transforms of TESS light curves. For our training set, we will use the simulations from the MAST High Level Science Product [SMARTS](https://archive.stsci.edu/hlsp/smarts). SMARTS combines physically realistic simulations of rotational light curves with real noise and systematics from TESS. This combination allows CNNs to learn the difference between rotation signals and systematics and estimate stellar rotation periods."
   ]
  },
  {
   "attachments": {},
   "cell_type": "markdown",
   "id": "f1b3c64b",
   "metadata": {},
   "source": [
    "## Goals\n",
    "The goal of this notebook is to use [SMARTS](https://archive.stsci.edu/hlsp/smarts) data to train a CNN to regress TESS rotation periods. We will\n",
    "\n",
    "0. [Configure the training run](#0.configure-training-run),\n",
    "1. [Prepare the training data](#1.prepare-training-data),\n",
    "2. [Build the CNN](#2.build-the-cnn),\n",
    "3. [Define training, validation, and evaluation functions](#3.define-training-validation-and-evaluation-functions),\n",
    "4. [Train the CNN](#4.train-the-cnn-on-smarts-data), and\n",
    "5. [Test the CNN performance](#5.test-the-cnn-performance).\n",
    "\n",
    "The training examples are 2-dimensional arrays of wavelet transforms of TESS light curves. The wavelet transform concentrates the periodicity of the light curve, making it easier for a CNN to regress the period. CNNs take advantage of the image-like nature of a wavelet transform in the same way that CNNs are useful for image recognition and computer vision."
   ]
  },
  {
   "cell_type": "markdown",
   "id": "dbe1acac-b293-4eeb-81d3-ff5553b1fadc",
   "metadata": {},
   "source": [
    "## Runtime\n",
    "\n",
    "On the [TIKE](https://timeseries.science.stsci.edu) \"Large\" instance, this notebook takes just under 3 minutes to run from start to finish. The bulk of this time is spent downloading the training data. Once you've done that once, you can comment out the cell, and the notebook will be faster.\n",
    "\n",
    "This notebook, including the CNN training, is configured to run on a single CPU."
   ]
  },
  {
   "attachments": {},
   "cell_type": "markdown",
   "id": "591c9b26",
   "metadata": {},
   "source": [
    "## Installs and Imports\n",
    "This notebook uses the following packages:\n",
    "- `glob` for generating lists of training files\n",
    "- `copy` for saving training weights\n",
    "- `numpy` for array operations\n",
    "- `matplotlib` for plotting\n",
    "- `astropy` for reading FITS files\n",
    "- `torch` for tensor and CNN operations\n",
    "\n",
    "You can install the requirements by running `%pip install -r requirements.txt`."
   ]
  },
  {
   "cell_type": "code",
   "execution_count": 1,
   "id": "e71cc70b",
   "metadata": {
    "execution": {
     "iopub.execute_input": "2025-08-26T15:48:25.973344Z",
     "iopub.status.busy": "2025-08-26T15:48:25.973107Z",
     "iopub.status.idle": "2025-08-26T15:48:30.209796Z",
     "shell.execute_reply": "2025-08-26T15:48:30.209089Z"
    }
   },
   "outputs": [],
   "source": [
    "from glob import glob  # for generating lists of input files\n",
    "from copy import deepcopy  # for saving CNN weights\n",
    "\n",
    "import numpy as np  # array operations\n",
    "from astropy.io import fits  # FITS file operations\n",
    "import matplotlib.pyplot as plt  # for plotting\n",
    "\n",
    "# For tensor and CNN operations\n",
    "import torch \n",
    "import torch.nn as nn\n",
    "import torch.nn.functional as F\n",
    "import torch.optim as optim\n",
    "from torch.utils.data import Dataset, DataLoader"
   ]
  },
  {
   "cell_type": "markdown",
   "id": "2412b0aa-1cb5-46db-bea1-074821fb37fd",
   "metadata": {},
   "source": [
    "## 0. Configure training run\n",
    "\n",
    "Before we get started, we need to set some configuration parameters to know how much data to read in, and how many epochs to train for. Ideally, we want to run on the full training set (`max_n = 1_000_000`) for long enough that the loss plateaus (usually `num_epochs = 500`). But this for this simple demo, we will use a subset of training data and a shorter training time. We will train/validation/test using a 80%/10%/10% `split`, and we'll build a CNN with 3 convolution layers with filter depths increasing from 8, to 16, to 32 `filters`."
   ]
  },
  {
   "cell_type": "code",
   "execution_count": 2,
   "id": "40253f60-adaa-49cc-aaab-ad708b4d71f6",
   "metadata": {
    "execution": {
     "iopub.execute_input": "2025-08-26T15:48:30.212193Z",
     "iopub.status.busy": "2025-08-26T15:48:30.211928Z",
     "iopub.status.idle": "2025-08-26T15:48:30.215081Z",
     "shell.execute_reply": "2025-08-26T15:48:30.214543Z"
    }
   },
   "outputs": [],
   "source": [
    "max_n = 10_000  # max 1_000_000\n",
    "num_epochs = 20  # 100 is pretty good, typically ~300 to 500 to reach a plateau\n",
    "split = [8, 1, 1]  # ratios for train/validation/test split\n",
    "filters = [8, 16, 32]  # list of CNN layer filter depths"
   ]
  },
  {
   "attachments": {},
   "cell_type": "markdown",
   "id": "766eb96b",
   "metadata": {},
   "source": [
    "## 1. Prepare training data\n",
    "\n",
    "The SMARTS training data are in the form of continuous Morlet wavelet transforms (CWTs) or wavelet power spectra (WPS). Rather than train on the light curve itself, the WPS provides a 2D representation of the frequency information present in the light curve. With frequency or period on the y-axis and time on the x-axis, the WPS illustrates which frequencies dominate the light curve at different times. Since it is effectively an image, we can take advantage of image recognition capabilities of CNNs.\n",
    "\n",
    "For more information on CWTs, see\n",
    "- [_A Practical Guide to Wavelet Analysis_, Torrence & Compo (1998)](https://ui.adsabs.harvard.edu/abs/1998BAMS...79...61T/abstract)\n",
    "- [The `pycwt` Python package](https://github.com/regeirk/pycwt)\n",
    "\n",
    "We will first download and extract the data, load it into a DataLoader, and then look at an example."
   ]
  },
  {
   "cell_type": "code",
   "execution_count": 3,
   "id": "b7388dbd-7e1e-4c4b-b660-781801dbadba",
   "metadata": {
    "execution": {
     "iopub.execute_input": "2025-08-26T15:48:30.216749Z",
     "iopub.status.busy": "2025-08-26T15:48:30.216566Z",
     "iopub.status.idle": "2025-08-26T15:56:01.161433Z",
     "shell.execute_reply": "2025-08-26T15:56:01.160646Z"
    }
   },
   "outputs": [
    {
     "name": "stdout",
     "output_type": "stream",
     "text": [
      "  % Total    % Received % Xferd  Average Speed   Time    Time     Time  Current\r\n",
      "                                 Dload  Upload   Total   Spent    Left  Speed\r\n",
      "\r",
      "  0     0    0     0    0     0      0      0 --:--:-- --:--:-- --:--:--     0"
     ]
    },
    {
     "name": "stdout",
     "output_type": "stream",
     "text": [
      "\r",
      "  3 1873M    3 61.8M    0     0  67.0M      0  0:00:27 --:--:--  0:00:27 67.0M"
     ]
    },
    {
     "name": "stdout",
     "output_type": "stream",
     "text": [
      "\r",
      "  6 1873M    6  114M    0     0  59.5M      0  0:00:31  0:00:01  0:00:30 59.5M"
     ]
    },
    {
     "name": "stdout",
     "output_type": "stream",
     "text": [
      "\r",
      "  6 1873M    6  128M    0     0  43.8M      0  0:00:42  0:00:02  0:00:40 43.8M"
     ]
    },
    {
     "name": "stdout",
     "output_type": "stream",
     "text": [
      "\r",
      "  7 1873M    7  134M    0     0  34.1M      0  0:00:54  0:00:03  0:00:51 34.1M"
     ]
    },
    {
     "name": "stdout",
     "output_type": "stream",
     "text": [
      "\r",
      "  7 1873M    7  140M    0     0  28.3M      0  0:01:06  0:00:04  0:01:02 28.3M"
     ]
    },
    {
     "name": "stdout",
     "output_type": "stream",
     "text": [
      "\r",
      "  7 1873M    7  145M    0     0  24.6M      0  0:01:16  0:00:05  0:01:11 16.7M"
     ]
    },
    {
     "name": "stdout",
     "output_type": "stream",
     "text": [
      "\r",
      "  7 1873M    7  149M    0     0  21.5M      0  0:01:26  0:00:06  0:01:20 7214k"
     ]
    },
    {
     "name": "stdout",
     "output_type": "stream",
     "text": [
      "\r",
      "  8 1873M    8  152M    0     0  19.1M      0  0:01:37  0:00:07  0:01:30 4897k"
     ]
    },
    {
     "name": "stdout",
     "output_type": "stream",
     "text": [
      "\r",
      "  8 1873M    8  154M    0     0  17.3M      0  0:01:47  0:00:08  0:01:39 4276k"
     ]
    },
    {
     "name": "stdout",
     "output_type": "stream",
     "text": [
      "\r",
      "  8 1873M    8  158M    0     0  15.9M      0  0:01:57  0:00:09  0:01:48 3791k"
     ]
    },
    {
     "name": "stdout",
     "output_type": "stream",
     "text": [
      "\r",
      "  8 1873M    8  163M    0     0  14.9M      0  0:02:05  0:00:10  0:01:55 3609k"
     ]
    },
    {
     "name": "stdout",
     "output_type": "stream",
     "text": [
      "\r",
      "  8 1873M    8  167M    0     0  14.0M      0  0:02:13  0:00:11  0:02:02 3568k"
     ]
    },
    {
     "name": "stdout",
     "output_type": "stream",
     "text": [
      "\r",
      "  9 1873M    9  170M    0     0  13.1M      0  0:02:22  0:00:12  0:02:10 3695k"
     ]
    },
    {
     "name": "stdout",
     "output_type": "stream",
     "text": [
      "\r",
      "  9 1873M    9  173M    0     0  12.4M      0  0:02:30  0:00:13  0:02:17 3793k"
     ]
    },
    {
     "name": "stdout",
     "output_type": "stream",
     "text": [
      "\r",
      "  9 1873M    9  176M    0     0  11.8M      0  0:02:38  0:00:14  0:02:24 3745k"
     ]
    },
    {
     "name": "stdout",
     "output_type": "stream",
     "text": [
      "\r",
      "  9 1873M    9  180M    0     0  11.3M      0  0:02:45  0:00:15  0:02:30 3558k"
     ]
    },
    {
     "name": "stdout",
     "output_type": "stream",
     "text": [
      "\r",
      "  9 1873M    9  184M    0     0  10.8M      0  0:02:52  0:00:16  0:02:36 3482k"
     ]
    },
    {
     "name": "stdout",
     "output_type": "stream",
     "text": [
      "\r",
      " 10 1873M   10  187M    0     0  10.4M      0  0:02:59  0:00:17  0:02:42 3565k"
     ]
    },
    {
     "name": "stdout",
     "output_type": "stream",
     "text": [
      "\r",
      " 10 1873M   10  191M    0     0  10.1M      0  0:03:05  0:00:18  0:02:47 3709k"
     ]
    },
    {
     "name": "stdout",
     "output_type": "stream",
     "text": [
      "\r",
      " 10 1873M   10  194M    0     0   9.7M      0  0:03:11  0:00:19  0:02:52 3672k"
     ]
    },
    {
     "name": "stdout",
     "output_type": "stream",
     "text": [
      "\r",
      " 10 1873M   10  197M    0     0  9670k      0  0:03:18  0:00:20  0:02:58 3474k"
     ]
    },
    {
     "name": "stdout",
     "output_type": "stream",
     "text": [
      "\r",
      " 10 1873M   10  200M    0     0  9346k      0  0:03:25  0:00:21  0:03:04 3293k"
     ]
    },
    {
     "name": "stdout",
     "output_type": "stream",
     "text": [
      "\r",
      " 10 1873M   10  202M    0     0  9062k      0  0:03:31  0:00:22  0:03:09 3143k"
     ]
    },
    {
     "name": "stdout",
     "output_type": "stream",
     "text": [
      "\r",
      " 10 1873M   10  206M    0     0  8813k      0  0:03:37  0:00:23  0:03:14 2956k"
     ]
    },
    {
     "name": "stdout",
     "output_type": "stream",
     "text": [
      "\r",
      " 11 1873M   11  210M    0     0  8637k      0  0:03:42  0:00:24  0:03:18 3160k"
     ]
    },
    {
     "name": "stdout",
     "output_type": "stream",
     "text": [
      "\r",
      " 11 1873M   11  213M    0     0  8434k      0  0:03:47  0:00:25  0:03:22 3253k"
     ]
    },
    {
     "name": "stdout",
     "output_type": "stream",
     "text": [
      "\r",
      " 11 1873M   11  217M    0     0  8254k      0  0:03:52  0:00:26  0:03:26 3468k"
     ]
    },
    {
     "name": "stdout",
     "output_type": "stream",
     "text": [
      "\r",
      " 11 1873M   11  219M    0     0  8048k      0  0:03:58  0:00:27  0:03:31 3388k"
     ]
    },
    {
     "name": "stdout",
     "output_type": "stream",
     "text": [
      "\r",
      " 11 1873M   11  222M    0     0  7861k      0  0:04:04  0:00:28  0:03:36 3289k"
     ]
    },
    {
     "name": "stdout",
     "output_type": "stream",
     "text": [
      "\r",
      " 12 1873M   12  225M    0     0  7723k      0  0:04:08  0:00:29  0:03:39 3166k"
     ]
    },
    {
     "name": "stdout",
     "output_type": "stream",
     "text": [
      "\r",
      " 12 1873M   12  230M    0     0  7635k      0  0:04:11  0:00:30  0:03:41 3496k"
     ]
    },
    {
     "name": "stdout",
     "output_type": "stream",
     "text": [
      "\r",
      " 12 1873M   12  234M    0     0  7505k      0  0:04:15  0:00:31  0:03:44 3486k"
     ]
    },
    {
     "name": "stdout",
     "output_type": "stream",
     "text": [
      "\r",
      " 12 1873M   12  236M    0     0  7350k      0  0:04:21  0:00:32  0:03:49 3449k"
     ]
    },
    {
     "name": "stdout",
     "output_type": "stream",
     "text": [
      "\r",
      " 12 1873M   12  238M    0     0  7206k      0  0:04:26  0:00:33  0:03:53 3416k"
     ]
    },
    {
     "name": "stdout",
     "output_type": "stream",
     "text": [
      "\r",
      " 12 1873M   12  240M    0     0  7064k      0  0:04:31  0:00:34  0:03:57 3124k"
     ]
    },
    {
     "name": "stdout",
     "output_type": "stream",
     "text": [
      "\r",
      " 13 1873M   13  244M    0     0  6957k      0  0:04:35  0:00:35  0:04:00 2778k"
     ]
    },
    {
     "name": "stdout",
     "output_type": "stream",
     "text": [
      "\r",
      " 13 1873M   13  248M    0     0  6880k      0  0:04:38  0:00:36  0:04:02 2882k"
     ]
    },
    {
     "name": "stdout",
     "output_type": "stream",
     "text": [
      "\r",
      " 13 1873M   13  250M    0     0  6774k      0  0:04:43  0:00:37  0:04:06 2988k"
     ]
    },
    {
     "name": "stdout",
     "output_type": "stream",
     "text": [
      "\r",
      " 13 1873M   13  253M    0     0  6653k      0  0:04:48  0:00:38  0:04:10 2918k"
     ]
    },
    {
     "name": "stdout",
     "output_type": "stream",
     "text": [
      "\r",
      " 13 1873M   13  255M    0     0  6547k      0  0:04:53  0:00:39  0:04:14 2931k"
     ]
    },
    {
     "name": "stdout",
     "output_type": "stream",
     "text": [
      "\r",
      " 13 1873M   13  258M    0     0  6465k      0  0:04:56  0:00:40  0:04:16 2922k"
     ]
    },
    {
     "name": "stdout",
     "output_type": "stream",
     "text": [
      "\r",
      " 14 1873M   14  262M    0     0  6419k      0  0:04:58  0:00:41  0:04:17 3004k"
     ]
    },
    {
     "name": "stdout",
     "output_type": "stream",
     "text": [
      "\r",
      " 14 1873M   14  267M    0     0  6387k      0  0:05:00  0:00:42  0:04:18 3447k"
     ]
    },
    {
     "name": "stdout",
     "output_type": "stream",
     "text": [
      "\r",
      " 14 1873M   14  272M    0     0  6345k      0  0:05:02  0:00:43  0:04:19 3942k"
     ]
    },
    {
     "name": "stdout",
     "output_type": "stream",
     "text": [
      "\r",
      " 14 1873M   14  275M    0     0  6276k      0  0:05:05  0:00:44  0:04:21 4116k"
     ]
    },
    {
     "name": "stdout",
     "output_type": "stream",
     "text": [
      "\r",
      " 14 1873M   14  278M    0     0  6208k      0  0:05:09  0:00:45  0:04:24 4093k"
     ]
    },
    {
     "name": "stdout",
     "output_type": "stream",
     "text": [
      "\r",
      " 15 1873M   15  281M    0     0  6152k      0  0:05:11  0:00:46  0:04:25 3913k"
     ]
    },
    {
     "name": "stdout",
     "output_type": "stream",
     "text": [
      "\r",
      " 15 1873M   15  285M    0     0  6106k      0  0:05:14  0:00:47  0:04:27 3696k"
     ]
    },
    {
     "name": "stdout",
     "output_type": "stream",
     "text": [
      "\r",
      " 15 1873M   15  289M    0     0  6056k      0  0:05:16  0:00:48  0:04:28 3516k"
     ]
    },
    {
     "name": "stdout",
     "output_type": "stream",
     "text": [
      "\r",
      " 15 1873M   15  292M    0     0  6001k      0  0:05:19  0:00:49  0:04:30 3529k"
     ]
    },
    {
     "name": "stdout",
     "output_type": "stream",
     "text": [
      "\r",
      " 15 1873M   15  295M    0     0  5936k      0  0:05:23  0:00:50  0:04:33 3445k"
     ]
    },
    {
     "name": "stdout",
     "output_type": "stream",
     "text": [
      "\r",
      " 15 1873M   15  298M    0     0  5887k      0  0:05:25  0:00:51  0:04:34 3407k"
     ]
    },
    {
     "name": "stdout",
     "output_type": "stream",
     "text": [
      "\r",
      " 16 1873M   16  301M    0     0  5829k      0  0:05:29  0:00:52  0:04:37 3176k"
     ]
    },
    {
     "name": "stdout",
     "output_type": "stream",
     "text": [
      "\r",
      " 16 1873M   16  303M    0     0  5759k      0  0:05:33  0:00:53  0:04:40 2855k"
     ]
    },
    {
     "name": "stdout",
     "output_type": "stream",
     "text": [
      "\r",
      " 16 1873M   16  305M    0     0  5699k      0  0:05:36  0:00:54  0:04:42 2686k"
     ]
    },
    {
     "name": "stdout",
     "output_type": "stream",
     "text": [
      "\r",
      " 16 1873M   16  307M    0     0  5634k      0  0:05:40  0:00:55  0:04:45 2555k"
     ]
    },
    {
     "name": "stdout",
     "output_type": "stream",
     "text": [
      "\r",
      " 16 1873M   16  309M    0     0  5570k      0  0:05:44  0:00:56  0:04:48 2268k"
     ]
    },
    {
     "name": "stdout",
     "output_type": "stream",
     "text": [
      "\r",
      " 16 1873M   16  311M    0     0  5500k      0  0:05:48  0:00:57  0:04:51 2019k"
     ]
    },
    {
     "name": "stdout",
     "output_type": "stream",
     "text": [
      "\r",
      " 16 1873M   16  313M    0     0  5449k      0  0:05:52  0:00:58  0:04:54 2105k"
     ]
    },
    {
     "name": "stdout",
     "output_type": "stream",
     "text": [
      "\r",
      " 16 1873M   16  316M    0     0  5403k      0  0:05:55  0:00:59  0:04:56 2147k"
     ]
    },
    {
     "name": "stdout",
     "output_type": "stream",
     "text": [
      "\r",
      " 17 1873M   17  319M    0     0  5370k      0  0:05:57  0:01:00  0:04:57 2415k"
     ]
    },
    {
     "name": "stdout",
     "output_type": "stream",
     "text": [
      "\r",
      " 17 1873M   17  323M    0     0  5345k      0  0:05:58  0:01:01  0:04:57 2800k"
     ]
    },
    {
     "name": "stdout",
     "output_type": "stream",
     "text": [
      "\r",
      " 17 1873M   17  327M    0     0  5330k      0  0:05:59  0:01:02  0:04:57 3363k"
     ]
    },
    {
     "name": "stdout",
     "output_type": "stream",
     "text": [
      "\r",
      " 17 1873M   17  330M    0     0  5301k      0  0:06:01  0:01:03  0:04:58 3558k"
     ]
    },
    {
     "name": "stdout",
     "output_type": "stream",
     "text": [
      "\r",
      " 17 1873M   17  333M    0     0  5263k      0  0:06:04  0:01:04  0:05:00 3592k"
     ]
    },
    {
     "name": "stdout",
     "output_type": "stream",
     "text": [
      "\r",
      " 17 1873M   17  336M    0     0  5226k      0  0:06:07  0:01:05  0:05:02 3468k"
     ]
    },
    {
     "name": "stdout",
     "output_type": "stream",
     "text": [
      "\r",
      " 18 1873M   18  339M    0     0  5193k      0  0:06:09  0:01:06  0:05:03 3310k"
     ]
    },
    {
     "name": "stdout",
     "output_type": "stream",
     "text": [
      "\r",
      " 18 1873M   18  341M    0     0  5149k      0  0:06:12  0:01:07  0:05:05 2878k"
     ]
    },
    {
     "name": "stdout",
     "output_type": "stream",
     "text": [
      "\r",
      " 18 1873M   18  344M    0     0  5114k      0  0:06:15  0:01:08  0:05:07 2728k"
     ]
    },
    {
     "name": "stdout",
     "output_type": "stream",
     "text": [
      "\r",
      " 18 1873M   18  346M    0     0  5079k      0  0:06:17  0:01:09  0:05:08 2680k"
     ]
    },
    {
     "name": "stdout",
     "output_type": "stream",
     "text": [
      "\r",
      " 18 1873M   18  349M    0     0  5052k      0  0:06:19  0:01:10  0:05:09 2766k"
     ]
    },
    {
     "name": "stdout",
     "output_type": "stream",
     "text": [
      "\r",
      " 18 1873M   18  351M    0     0  5009k      0  0:06:23  0:01:11  0:05:12 2539k"
     ]
    },
    {
     "name": "stdout",
     "output_type": "stream",
     "text": [
      "\r",
      " 18 1873M   18  354M    0     0  4973k      0  0:06:25  0:01:12  0:05:13 2579k"
     ]
    },
    {
     "name": "stdout",
     "output_type": "stream",
     "text": [
      "\r",
      " 19 1873M   19  357M    0     0  4946k      0  0:06:27  0:01:13  0:05:14 2622k"
     ]
    },
    {
     "name": "stdout",
     "output_type": "stream",
     "text": [
      "\r",
      " 19 1873M   19  358M    0     0  4904k      0  0:06:31  0:01:14  0:05:17 2461k"
     ]
    },
    {
     "name": "stdout",
     "output_type": "stream",
     "text": [
      "\r",
      " 19 1873M   19  360M    0     0  4866k      0  0:06:34  0:01:15  0:05:19 2223k"
     ]
    },
    {
     "name": "stdout",
     "output_type": "stream",
     "text": [
      "\r",
      " 19 1873M   19  363M    0     0  4835k      0  0:06:36  0:01:16  0:05:20 2322k"
     ]
    },
    {
     "name": "stdout",
     "output_type": "stream",
     "text": [
      "\r",
      " 19 1873M   19  365M    0     0  4808k      0  0:06:39  0:01:17  0:05:22 2403k"
     ]
    },
    {
     "name": "stdout",
     "output_type": "stream",
     "text": [
      "\r",
      " 19 1873M   19  368M    0     0  4779k      0  0:06:41  0:01:18  0:05:23 2318k"
     ]
    },
    {
     "name": "stdout",
     "output_type": "stream",
     "text": [
      "\r",
      " 19 1873M   19  370M    0     0  4747k      0  0:06:44  0:01:19  0:05:25 2392k"
     ]
    },
    {
     "name": "stdout",
     "output_type": "stream",
     "text": [
      "\r",
      " 19 1873M   19  373M    0     0  4726k      0  0:06:45  0:01:20  0:05:25 2607k"
     ]
    },
    {
     "name": "stdout",
     "output_type": "stream",
     "text": [
      "\r",
      " 20 1873M   20  375M    0     0  4695k      0  0:06:48  0:01:21  0:05:27 2539k"
     ]
    },
    {
     "name": "stdout",
     "output_type": "stream",
     "text": [
      "\r",
      " 20 1873M   20  377M    0     0  4658k      0  0:06:51  0:01:22  0:05:29 2304k"
     ]
    },
    {
     "name": "stdout",
     "output_type": "stream",
     "text": [
      "\r",
      " 20 1873M   20  379M    0     0  4629k      0  0:06:54  0:01:23  0:05:31 2250k"
     ]
    },
    {
     "name": "stdout",
     "output_type": "stream",
     "text": [
      "\r",
      " 20 1873M   20  381M    0     0  4601k      0  0:06:57  0:01:24  0:05:33 2266k"
     ]
    },
    {
     "name": "stdout",
     "output_type": "stream",
     "text": [
      "\r",
      " 20 1873M   20  384M    0     0  4582k      0  0:06:58  0:01:25  0:05:33 2257k"
     ]
    },
    {
     "name": "stdout",
     "output_type": "stream",
     "text": [
      "\r",
      " 20 1873M   20  387M    0     0  4564k      0  0:07:00  0:01:26  0:05:34 2436k"
     ]
    },
    {
     "name": "stdout",
     "output_type": "stream",
     "text": [
      "\r",
      " 20 1873M   20  389M    0     0  4540k      0  0:07:02  0:01:27  0:05:35 2590k"
     ]
    },
    {
     "name": "stdout",
     "output_type": "stream",
     "text": [
      "\r",
      " 20 1873M   20  392M    0     0  4515k      0  0:07:04  0:01:28  0:05:36 2604k"
     ]
    },
    {
     "name": "stdout",
     "output_type": "stream",
     "text": [
      "\r",
      " 21 1873M   21  394M    0     0  4491k      0  0:07:07  0:01:29  0:05:38 2633k"
     ]
    },
    {
     "name": "stdout",
     "output_type": "stream",
     "text": [
      "\r",
      " 21 1873M   21  397M    0     0  4476k      0  0:07:08  0:01:30  0:05:38 2635k"
     ]
    },
    {
     "name": "stdout",
     "output_type": "stream",
     "text": [
      "\r",
      " 21 1873M   21  399M    0     0  4450k      0  0:07:11  0:01:31  0:05:40 2456k"
     ]
    },
    {
     "name": "stdout",
     "output_type": "stream",
     "text": [
      "\r",
      " 21 1873M   21  401M    0     0  4419k      0  0:07:14  0:01:32  0:05:42 2302k"
     ]
    },
    {
     "name": "stdout",
     "output_type": "stream",
     "text": [
      "\r",
      " 21 1873M   21  403M    0     0  4397k      0  0:07:16  0:01:33  0:05:43 2297k"
     ]
    },
    {
     "name": "stdout",
     "output_type": "stream",
     "text": [
      "\r",
      " 21 1873M   21  406M    0     0  4380k      0  0:07:18  0:01:34  0:05:44 2371k"
     ]
    },
    {
     "name": "stdout",
     "output_type": "stream",
     "text": [
      "\r",
      " 21 1873M   21  409M    0     0  4369k      0  0:07:19  0:01:35  0:05:44 2429k"
     ]
    },
    {
     "name": "stdout",
     "output_type": "stream",
     "text": [
      "\r",
      " 21 1873M   21  411M    0     0  4348k      0  0:07:21  0:01:36  0:05:45 2479k"
     ]
    },
    {
     "name": "stdout",
     "output_type": "stream",
     "text": [
      "\r",
      " 22 1873M   22  413M    0     0  4322k      0  0:07:23  0:01:37  0:05:46 2516k"
     ]
    },
    {
     "name": "stdout",
     "output_type": "stream",
     "text": [
      "\r",
      " 22 1873M   22  415M    0     0  4296k      0  0:07:26  0:01:38  0:05:48 2392k"
     ]
    },
    {
     "name": "stdout",
     "output_type": "stream",
     "text": [
      "\r",
      " 22 1873M   22  417M    0     0  4274k      0  0:07:28  0:01:39  0:05:49 2267k"
     ]
    },
    {
     "name": "stdout",
     "output_type": "stream",
     "text": [
      "\r",
      " 22 1873M   22  420M    0     0  4262k      0  0:07:30  0:01:40  0:05:50 2215k"
     ]
    },
    {
     "name": "stdout",
     "output_type": "stream",
     "text": [
      "\r",
      " 22 1873M   22  423M    0     0  4253k      0  0:07:31  0:01:41  0:05:50 2416k"
     ]
    },
    {
     "name": "stdout",
     "output_type": "stream",
     "text": [
      "\r",
      " 22 1873M   22  425M    0     0  4232k      0  0:07:33  0:01:42  0:05:51 2471k"
     ]
    },
    {
     "name": "stdout",
     "output_type": "stream",
     "text": [
      "\r",
      " 22 1873M   22  427M    0     0  4213k      0  0:07:35  0:01:43  0:05:52 2580k"
     ]
    },
    {
     "name": "stdout",
     "output_type": "stream",
     "text": [
      "\r",
      " 22 1873M   22  429M    0     0  4187k      0  0:07:38  0:01:44  0:05:54 2446k"
     ]
    },
    {
     "name": "stdout",
     "output_type": "stream",
     "text": [
      "\r",
      " 23 1873M   23  431M    0     0  4166k      0  0:07:40  0:01:45  0:05:55 2226k"
     ]
    },
    {
     "name": "stdout",
     "output_type": "stream",
     "text": [
      "\r",
      " 23 1873M   23  433M    0     0  4149k      0  0:07:42  0:01:46  0:05:56 2025k"
     ]
    },
    {
     "name": "stdout",
     "output_type": "stream",
     "text": [
      "\r",
      " 23 1873M   23  436M    0     0  4140k      0  0:07:43  0:01:47  0:05:56 2250k"
     ]
    },
    {
     "name": "stdout",
     "output_type": "stream",
     "text": [
      "\r",
      " 23 1873M   23  439M    0     0  4136k      0  0:07:43  0:01:48  0:05:55 2526k"
     ]
    },
    {
     "name": "stdout",
     "output_type": "stream",
     "text": [
      "\r",
      " 23 1873M   23  444M    0     0  4136k      0  0:07:43  0:01:49  0:05:54 3072k"
     ]
    },
    {
     "name": "stdout",
     "output_type": "stream",
     "text": [
      "\r",
      " 23 1873M   23  447M    0     0  4126k      0  0:07:45  0:01:50  0:05:55 3285k"
     ]
    },
    {
     "name": "stdout",
     "output_type": "stream",
     "text": [
      "\r",
      " 24 1873M   24  450M    0     0  4120k      0  0:07:45  0:01:51  0:05:54 3495k"
     ]
    },
    {
     "name": "stdout",
     "output_type": "stream",
     "text": [
      "\r",
      " 24 1873M   24  454M    0     0  4124k      0  0:07:45  0:01:52  0:05:53 3775k"
     ]
    },
    {
     "name": "stdout",
     "output_type": "stream",
     "text": [
      "\r",
      " 24 1873M   24  458M    0     0  4120k      0  0:07:45  0:01:53  0:05:52 3772k"
     ]
    },
    {
     "name": "stdout",
     "output_type": "stream",
     "text": [
      "\r",
      " 24 1873M   24  461M    0     0  4110k      0  0:07:46  0:01:54  0:05:52 3532k"
     ]
    },
    {
     "name": "stdout",
     "output_type": "stream",
     "text": [
      "\r",
      " 24 1873M   24  465M    0     0  4109k      0  0:07:46  0:01:55  0:05:51 3738k"
     ]
    },
    {
     "name": "stdout",
     "output_type": "stream",
     "text": [
      "\r",
      " 25 1873M   25  469M    0     0  4109k      0  0:07:46  0:01:56  0:05:50 3860k"
     ]
    },
    {
     "name": "stdout",
     "output_type": "stream",
     "text": [
      "\r",
      " 25 1873M   25  473M    0     0  4108k      0  0:07:47  0:01:57  0:05:50 3750k"
     ]
    },
    {
     "name": "stdout",
     "output_type": "stream",
     "text": [
      "\r",
      " 25 1873M   25  478M    0     0  4116k      0  0:07:46  0:01:58  0:05:48 4028k"
     ]
    },
    {
     "name": "stdout",
     "output_type": "stream",
     "text": [
      "\r",
      " 25 1873M   25  483M    0     0  4125k      0  0:07:45  0:01:59  0:05:46 4478k"
     ]
    },
    {
     "name": "stdout",
     "output_type": "stream",
     "text": [
      "\r",
      " 25 1873M   25  486M    0     0  4122k      0  0:07:45  0:02:00  0:05:45 4423k"
     ]
    },
    {
     "name": "stdout",
     "output_type": "stream",
     "text": [
      "\r",
      " 26 1873M   26  489M    0     0  4112k      0  0:07:46  0:02:01  0:05:45 4179k"
     ]
    },
    {
     "name": "stdout",
     "output_type": "stream",
     "text": [
      "\r",
      " 26 1873M   26  493M    0     0  4110k      0  0:07:46  0:02:02  0:05:44 4158k"
     ]
    },
    {
     "name": "stdout",
     "output_type": "stream",
     "text": [
      "\r",
      " 26 1873M   26  498M    0     0  4116k      0  0:07:46  0:02:03  0:05:43 4134k"
     ]
    },
    {
     "name": "stdout",
     "output_type": "stream",
     "text": [
      "\r",
      " 26 1873M   26  502M    0     0  4121k      0  0:07:45  0:02:04  0:05:41 4015k"
     ]
    },
    {
     "name": "stdout",
     "output_type": "stream",
     "text": [
      "\r",
      " 27 1873M   27  507M    0     0  4124k      0  0:07:45  0:02:05  0:05:40 4163k"
     ]
    },
    {
     "name": "stdout",
     "output_type": "stream",
     "text": [
      "\r",
      " 27 1873M   27  511M    0     0  4122k      0  0:07:45  0:02:06  0:05:39 4386k"
     ]
    },
    {
     "name": "stdout",
     "output_type": "stream",
     "text": [
      "\r",
      " 27 1873M   27  516M    0     0  4131k      0  0:07:44  0:02:07  0:05:37 4652k"
     ]
    },
    {
     "name": "stdout",
     "output_type": "stream",
     "text": [
      "\r",
      " 27 1873M   27  522M    0     0  4150k      0  0:07:42  0:02:08  0:05:34 4985k"
     ]
    },
    {
     "name": "stdout",
     "output_type": "stream",
     "text": [
      "\r",
      " 28 1873M   28  530M    0     0  4180k      0  0:07:39  0:02:09  0:05:30 5650k"
     ]
    },
    {
     "name": "stdout",
     "output_type": "stream",
     "text": [
      "\r",
      " 28 1873M   28  539M    0     0  4216k      0  0:07:35  0:02:10  0:05:25 6533k"
     ]
    },
    {
     "name": "stdout",
     "output_type": "stream",
     "text": [
      "\r",
      " 29 1873M   29  546M    0     0  4240k      0  0:07:32  0:02:11  0:05:21 7222k"
     ]
    },
    {
     "name": "stdout",
     "output_type": "stream",
     "text": [
      "\r",
      " 29 1873M   29  552M    0     0  4257k      0  0:07:30  0:02:12  0:05:18 7477k"
     ]
    },
    {
     "name": "stdout",
     "output_type": "stream",
     "text": [
      "\r",
      " 29 1873M   29  559M    0     0  4277k      0  0:07:28  0:02:13  0:05:15 7559k"
     ]
    },
    {
     "name": "stdout",
     "output_type": "stream",
     "text": [
      "\r",
      " 30 1873M   30  564M    0     0  4282k      0  0:07:28  0:02:14  0:05:14 6939k"
     ]
    },
    {
     "name": "stdout",
     "output_type": "stream",
     "text": [
      "\r",
      " 30 1873M   30  570M    0     0  4295k      0  0:07:26  0:02:15  0:05:11 6373k"
     ]
    },
    {
     "name": "stdout",
     "output_type": "stream",
     "text": [
      "\r",
      " 30 1873M   30  576M    0     0  4307k      0  0:07:25  0:02:16  0:05:09 6079k"
     ]
    },
    {
     "name": "stdout",
     "output_type": "stream",
     "text": [
      "\r",
      " 30 1873M   30  580M    0     0  4311k      0  0:07:25  0:02:17  0:05:08 5734k"
     ]
    },
    {
     "name": "stdout",
     "output_type": "stream",
     "text": [
      "\r",
      " 31 1873M   31  586M    0     0  4322k      0  0:07:23  0:02:18  0:05:05 5524k"
     ]
    },
    {
     "name": "stdout",
     "output_type": "stream",
     "text": [
      "\r",
      " 31 1873M   31  590"
     ]
    },
    {
     "name": "stdout",
     "output_type": "stream",
     "text": [
      "M    0     0  4324k      0  0:07:23  0:02:19  0:05:04 5475k"
     ]
    },
    {
     "name": "stdout",
     "output_type": "stream",
     "text": [
      "\r",
      " 31 1873M   31  595M    0     0  4328k      0  0:07:23  0:02:20  0:05:03 5211k"
     ]
    },
    {
     "name": "stdout",
     "output_type": "stream",
     "text": [
      "\r",
      " 32 1873M   32  600M    0     0  4331k      0  0:07:23  0:02:21  0:05:02 4974k"
     ]
    },
    {
     "name": "stdout",
     "output_type": "stream",
     "text": [
      "\r",
      " 32 1873M   32  605M    0     0  4335k      0  0:07:22  0:02:22  0:05:00 5006k"
     ]
    },
    {
     "name": "stdout",
     "output_type": "stream",
     "text": [
      "\r",
      " 32 1873M   32  610M    0     0  4340k      0  0:07:22  0:02:23  0:04:59 4834k"
     ]
    },
    {
     "name": "stdout",
     "output_type": "stream",
     "text": [
      "\r",
      " 32 1873M   32  616M    0     0  4353k      0  0:07:20  0:02:24  0:04:56 5152k"
     ]
    },
    {
     "name": "stdout",
     "output_type": "stream",
     "text": [
      "\r",
      " 33 1873M   33  623M    0     0  4375k      0  0:07:18  0:02:25  0:04:53 5702k"
     ]
    },
    {
     "name": "stdout",
     "output_type": "stream",
     "text": [
      "\r",
      " 33 1873M   33  629M    0     0  4388k      0  0:07:17  0:02:26  0:04:51 6012k"
     ]
    },
    {
     "name": "stdout",
     "output_type": "stream",
     "text": [
      "\r",
      " 33 1873M   33  634M    0     0  4394k      0  0:07:16  0:02:27  0:04:49 6090k"
     ]
    },
    {
     "name": "stdout",
     "output_type": "stream",
     "text": [
      "\r",
      " 34 1873M   34  638M    0     0  4386k      0  0:07:17  0:02:28  0:04:49 5714k"
     ]
    },
    {
     "name": "stdout",
     "output_type": "stream",
     "text": [
      "\r",
      " 34 1873M   34  640M    0     0  4377k      0  0:07:18  0:02:29  0:04:49 5058k"
     ]
    },
    {
     "name": "stdout",
     "output_type": "stream",
     "text": [
      "\r",
      " 34 1873M   34  643M    0     0  4364k      0  0:07:19  0:02:30  0:04:49 4037k"
     ]
    },
    {
     "name": "stdout",
     "output_type": "stream",
     "text": [
      "\r",
      " 34 1873M   34  646M    0     0  4356k      0  0:07:20  0:02:31  0:04:49 3436k"
     ]
    },
    {
     "name": "stdout",
     "output_type": "stream",
     "text": [
      "\r",
      " 34 1873M   34  650M    0     0  4358k      0  0:07:20  0:02:32  0:04:48 3273k"
     ]
    },
    {
     "name": "stdout",
     "output_type": "stream",
     "text": [
      "\r",
      " 35 1873M   35  655M    0     0  4363k      0  0:07:19  0:02:33  0:04:46 3686k"
     ]
    },
    {
     "name": "stdout",
     "output_type": "stream",
     "text": [
      "\r",
      " 35 1873M   35  659M    0     0  4357k      0  0:07:20  0:02:34  0:04:46 3775k"
     ]
    },
    {
     "name": "stdout",
     "output_type": "stream",
     "text": [
      "\r",
      " 35 1873M   35  662M    0     0  4352k      0  0:07:20  0:02:35  0:04:45 4016k"
     ]
    },
    {
     "name": "stdout",
     "output_type": "stream",
     "text": [
      "\r",
      " 35 1873M   35  666M    0     0  4350k      0  0:07:21  0:02:36  0:04:45 4146k"
     ]
    },
    {
     "name": "stdout",
     "output_type": "stream",
     "text": [
      "\r",
      " 35 1873M   35  670M    0     0  4348k      0  0:07:21  0:02:37  0:04:44 4051k"
     ]
    },
    {
     "name": "stdout",
     "output_type": "stream",
     "text": [
      "\r",
      " 35 1873M   35  674M    0     0  4343k      0  0:07:21  0:02:38  0:04:43 3720k"
     ]
    },
    {
     "name": "stdout",
     "output_type": "stream",
     "text": [
      "\r",
      " 36 1873M   36  677M    0     0  4338k      0  0:07:22  0:02:39  0:04:43 3743k"
     ]
    },
    {
     "name": "stdout",
     "output_type": "stream",
     "text": [
      "\r",
      " 36 1873M   36  681M    0     0  4337k      0  0:07:22  0:02:40  0:04:42 3856k"
     ]
    },
    {
     "name": "stdout",
     "output_type": "stream",
     "text": [
      "\r",
      " 36 1873M   36  685M    0     0  4332k      0  0:07:22  0:02:41  0:04:41 3767k"
     ]
    },
    {
     "name": "stdout",
     "output_type": "stream",
     "text": [
      "\r",
      " 36 1873M   36  688M    0     0  4330k      0  0:07:23  0:02:42  0:04:41 3750k"
     ]
    },
    {
     "name": "stdout",
     "output_type": "stream",
     "text": [
      "\r",
      " 36 1873M   36  691M    0     0  4317k      0  0:07:24  0:02:43  0:04:41 3495k"
     ]
    },
    {
     "name": "stdout",
     "output_type": "stream",
     "text": [
      "\r",
      " 37 1873M   37  693M    0     0  4305k      0  0:07:25  0:02:44  0:04:41 3246k"
     ]
    },
    {
     "name": "stdout",
     "output_type": "stream",
     "text": [
      "\r",
      " 37 1873M   37  696M    0     0  4296k      0  0:07:26  0:02:45  0:04:41 2972k"
     ]
    },
    {
     "name": "stdout",
     "output_type": "stream",
     "text": [
      "\r",
      " 37 1873M   37  700M    0     0  4294k      0  0:07:26  0:02:46  0:04:40 3087k"
     ]
    },
    {
     "name": "stdout",
     "output_type": "stream",
     "text": [
      "\r",
      " 37 1873M   37  703M    0     0  4292k      0  0:07:27  0:02:47  0:04:40 3062k"
     ]
    },
    {
     "name": "stdout",
     "output_type": "stream",
     "text": [
      "\r",
      " 37 1873M   37  708M    0     0  4297k      0  0:07:26  0:02:48  0:04:38 3619k"
     ]
    },
    {
     "name": "stdout",
     "output_type": "stream",
     "text": [
      "\r",
      " 38 1873M   38  714M    0     0  4308k      0  0:07:25  0:02:49  0:04:36 4415k"
     ]
    },
    {
     "name": "stdout",
     "output_type": "stream",
     "text": [
      "\r",
      " 38 1873M   38  719M    0     0  4312k      0  0:07:24  0:02:50  0:04:34 4846k"
     ]
    },
    {
     "name": "stdout",
     "output_type": "stream",
     "text": [
      "\r",
      " 38 1873M   38  724M    0     0  4316k      0  0:07:24  0:02:51  0:04:33 5027k"
     ]
    },
    {
     "name": "stdout",
     "output_type": "stream",
     "text": [
      "\r",
      " 38 1873M   38  730M    0     0  4327k      0  0:07:23  0:02:52  0:04:31 5516k"
     ]
    },
    {
     "name": "stdout",
     "output_type": "stream",
     "text": [
      "\r",
      " 39 1873M   39  735M    0     0  4330k      0  0:07:23  0:02:53  0:04:30 5465k"
     ]
    },
    {
     "name": "stdout",
     "output_type": "stream",
     "text": [
      "\r",
      " 39 1873M   39  739M    0     0  4329k      0  0:07:23  0:02:54  0:04:29 5051k"
     ]
    },
    {
     "name": "stdout",
     "output_type": "stream",
     "text": [
      "\r",
      " 39 1873M   39  743M    0     0  4329k      0  0:07:23  0:02:55  0:04:28 4901k"
     ]
    },
    {
     "name": "stdout",
     "output_type": "stream",
     "text": [
      "\r",
      " 39 1873M   39  747M    0     0  4326k      0  0:07:23  0:02:56  0:04:27 4679k"
     ]
    },
    {
     "name": "stdout",
     "output_type": "stream",
     "text": [
      "\r",
      " 40 1873M   40  751M    0     0  4324k      0  0:07:23  0:02:57  0:04:26 4230k"
     ]
    },
    {
     "name": "stdout",
     "output_type": "stream",
     "text": [
      "\r",
      " 40 1873M   40  755M    0     0  4322k      0  0:07:23  0:02:58  0:04:25 4053k"
     ]
    },
    {
     "name": "stdout",
     "output_type": "stream",
     "text": [
      "\r",
      " 40 1873M   40  758M    0     0  4314k      0  0:07:24  0:02:59  0:04:25 3779k"
     ]
    },
    {
     "name": "stdout",
     "output_type": "stream",
     "text": [
      "\r",
      " 40 1873M   40  761M    0     0  4308k      0  0:07:25  0:03:00  0:04:25 3566k"
     ]
    },
    {
     "name": "stdout",
     "output_type": "stream",
     "text": [
      "\r",
      " 40 1873M   40  764M    0     0  4303k      0  0:07:25  0:03:01  0:04:24 3506k"
     ]
    },
    {
     "name": "stdout",
     "output_type": "stream",
     "text": [
      "\r",
      " 40 1873M   40  767M    0     0  4298k      0  0:07:26  0:03:02  0:04:24 3356k"
     ]
    },
    {
     "name": "stdout",
     "output_type": "stream",
     "text": [
      "\r",
      " 41 1873M   41  770M    0     0  4292k      0  0:07:27  0:03:03  0:04:24 3203k"
     ]
    },
    {
     "name": "stdout",
     "output_type": "stream",
     "text": [
      "\r",
      " 41 1873M   41  773M    0     0  4282k      0  0:07:28  0:03:04  0:04:24 3146k"
     ]
    },
    {
     "name": "stdout",
     "output_type": "stream",
     "text": [
      "\r",
      " 41 1873M   41  776M    0     0  4278k      0  0:07:28  0:03:05  0:04:23 3207k"
     ]
    },
    {
     "name": "stdout",
     "output_type": "stream",
     "text": [
      "\r",
      " 41 1873M   41  780M    0     0  4273k      0  0:07:28  0:03:06  0:04:22 3177k"
     ]
    },
    {
     "name": "stdout",
     "output_type": "stream",
     "text": [
      "\r",
      " 41 1873M   41  784M    0     0  4274k      0  0:07:28  0:03:07  0:04:21 3394k"
     ]
    },
    {
     "name": "stdout",
     "output_type": "stream",
     "text": [
      "\r",
      " 41 1873M   41  786M    0     0  4265k      0  0:07:29  0:03:08  0:04:21 3260k"
     ]
    },
    {
     "name": "stdout",
     "output_type": "stream",
     "text": [
      "\r",
      " 42 1873M   42  790M    0     0  4260k      0  0:07:30  0:03:09  0:04:21 3420k"
     ]
    },
    {
     "name": "stdout",
     "output_type": "stream",
     "text": [
      "\r",
      " 42 1873M   42  794M    0     0  4261k      0  0:07:30  0:03:10  0:04:20 3646k"
     ]
    },
    {
     "name": "stdout",
     "output_type": "stream",
     "text": [
      "\r",
      " 42 1873M   42  799M    0     0  4263k      0  0:07:30  0:03:11  0:04:19 3867k"
     ]
    },
    {
     "name": "stdout",
     "output_type": "stream",
     "text": [
      "\r",
      " 42 1873M   42  802M    0     0  4257k      0  0:07:30  0:03:12  0:04:18 3631k"
     ]
    },
    {
     "name": "stdout",
     "output_type": "stream",
     "text": [
      "\r",
      " 42 1873M   42  805M    0     0  4252k      0  0:07:31  0:03:13  0:04:18 3772k"
     ]
    },
    {
     "name": "stdout",
     "output_type": "stream",
     "text": [
      "\r",
      " 43 1873M   43  808M    0     0  4248k      0  0:07:31  0:03:14  0:04:17 3787k"
     ]
    },
    {
     "name": "stdout",
     "output_type": "stream",
     "text": [
      "\r",
      " 43 1873M   43  812M    0     0  4246k      0  0:07:31  0:03:15  0:04:16 3646k"
     ]
    },
    {
     "name": "stdout",
     "output_type": "stream",
     "text": [
      "\r",
      " 43 1873M   43  816M    0     0  4248k      0  0:07:31  0:03:16  0:04:15 3668k"
     ]
    },
    {
     "name": "stdout",
     "output_type": "stream",
     "text": [
      "\r",
      " 43 1873M   43  821M    0     0  4250k      0  0:07:31  0:03:17  0:04:14 3952k"
     ]
    },
    {
     "name": "stdout",
     "output_type": "stream",
     "text": [
      "\r",
      " 44 1873M   44  827M    0     0  4258k      0  0:07:30  0:03:18  0:04:12 4499k"
     ]
    },
    {
     "name": "stdout",
     "output_type": "stream",
     "text": [
      "\r",
      " 44 1873M   44  833M    0     0  4271k      0  0:07:29  0:03:19  0:04:10 5180k"
     ]
    },
    {
     "name": "stdout",
     "output_type": "stream",
     "text": [
      "\r",
      " 44 1873M   44  839M    0     0  4279k      0  0:07:28  0:03:20  0:04:08 5567k"
     ]
    },
    {
     "name": "stdout",
     "output_type": "stream",
     "text": [
      "\r",
      " 45 1873M   45  845M    0     0  4286k      0  0:07:27  0:03:21  0:04:06 5792k"
     ]
    },
    {
     "name": "stdout",
     "output_type": "stream",
     "text": [
      "\r",
      " 45 1873M   45  851M    0     0  4295k      0  0:07:26  0:03:22  0:04:04 6096k"
     ]
    },
    {
     "name": "stdout",
     "output_type": "stream",
     "text": [
      "\r",
      " 45 1873M   45  856M    0     0  4300k      0  0:07:26  0:03:23  0:04:03 5975k"
     ]
    },
    {
     "name": "stdout",
     "output_type": "stream",
     "text": [
      "\r",
      " 45 1873M   45  861M    0     0  4303k      0  0:07:25  0:03:24  0:04:01 5581k"
     ]
    },
    {
     "name": "stdout",
     "output_type": "stream",
     "text": [
      "\r",
      " 46 1873M   46  864M    0     0  4300k      0  0:07:26  0:03:25  0:04:01 5176k"
     ]
    },
    {
     "name": "stdout",
     "output_type": "stream",
     "text": [
      "\r",
      " 46 1873M   46  868M    0     0  4299k      0  0:07:26  0:03:26  0:04:00 4838k"
     ]
    },
    {
     "name": "stdout",
     "output_type": "stream",
     "text": [
      "\r",
      " 46 1873M   46  874M    0     0  4305k      0  0:07:25  0:03:27  0:03:58 4704k"
     ]
    },
    {
     "name": "stdout",
     "output_type": "stream",
     "text": [
      "\r",
      " 46 1873M   46  880M    0     0  4315k      0  0:07:24  0:03:28  0:03:56 4931k"
     ]
    },
    {
     "name": "stdout",
     "output_type": "stream",
     "text": [
      "\r",
      " 47 1873M   47  887M    0     0  4330k      0  0:07:23  0:03:29  0:03:54 5438k"
     ]
    },
    {
     "name": "stdout",
     "output_type": "stream",
     "text": [
      "\r",
      " 47 1873M   47  893M    0     0  4335k      0  0:07:22  0:03:30  0:03:52 5753k"
     ]
    },
    {
     "name": "stdout",
     "output_type": "stream",
     "text": [
      "\r",
      " 47 1873M   47  898M    0   "
     ]
    },
    {
     "name": "stdout",
     "output_type": "stream",
     "text": [
      "  0  4343k      0  0:07:21  0:03:31  0:03:50 6134k"
     ]
    },
    {
     "name": "stdout",
     "output_type": "stream",
     "text": [
      "\r",
      " 48 1873M   48  904M    0     0  4348k      0  0:07:21  0:03:32  0:03:49 6130k"
     ]
    },
    {
     "name": "stdout",
     "output_type": "stream",
     "text": [
      "\r",
      " 48 1873M   48  908M    0     0  4350k      0  0:07:21  0:03:33  0:03:48 5809k"
     ]
    },
    {
     "name": "stdout",
     "output_type": "stream",
     "text": [
      "\r",
      " 48 1873M   48  913M    0     0  4351k      0  0:07:20  0:03:34  0:03:46 5239k"
     ]
    },
    {
     "name": "stdout",
     "output_type": "stream",
     "text": [
      "\r",
      " 49 1873M   49  918M    0     0  4357k      0  0:07:20  0:03:35  0:03:45 5270k"
     ]
    },
    {
     "name": "stdout",
     "output_type": "stream",
     "text": [
      "\r",
      " 49 1873M   49  925M    0     0  4367k      0  0:07:19  0:03:36  0:03:43 5410k"
     ]
    },
    {
     "name": "stdout",
     "output_type": "stream",
     "text": [
      "\r",
      " 49 1873M   49  933M    0     0  4384k      0  0:07:17  0:03:37  0:03:40 5945k"
     ]
    },
    {
     "name": "stdout",
     "output_type": "stream",
     "text": [
      "\r",
      " 50 1873M   50  941M    0     0  4401k      0  0:07:15  0:03:38  0:03:37 6585k"
     ]
    },
    {
     "name": "stdout",
     "output_type": "stream",
     "text": [
      "\r",
      " 50 1873M   50  946M    0     0  4407k      0  0:07:15  0:03:39  0:03:36 6801k"
     ]
    },
    {
     "name": "stdout",
     "output_type": "stream",
     "text": [
      "\r",
      " 50 1873M   50  950M    0     0"
     ]
    },
    {
     "name": "stdout",
     "output_type": "stream",
     "text": [
      "  4405k      0  0:07:15  0:03:40  0:03:35 6514k"
     ]
    },
    {
     "name": "stdout",
     "output_type": "stream",
     "text": [
      "\r",
      " 50 1873M   50  955M    0     0  4407k      0  0:07:15  0:03:41  0:03:34 6155k"
     ]
    },
    {
     "name": "stdout",
     "output_type": "stream",
     "text": [
      "\r",
      " 51 1873M   51  959M    0     0  4408k      0  0:07:15  0:03:42  0:03:33 5421k"
     ]
    },
    {
     "name": "stdout",
     "output_type": "stream",
     "text": [
      "\r",
      " 51 1873M   51  965M    0     0  4413k      0  0:07:14  0:03:43  0:03:31 4942k"
     ]
    },
    {
     "name": "stdout",
     "output_type": "stream",
     "text": [
      "\r",
      " 51 1873M   51  970M    0     0  4417k      0  0:07:14  0:03:44  0:03:30 4885k"
     ]
    },
    {
     "name": "stdout",
     "output_type": "stream",
     "text": [
      "\r",
      " 52 1873M   52  975M    0     0  4421k      0  0:07:14  0:03:45  0:03:29 5088k"
     ]
    },
    {
     "name": "stdout",
     "output_type": "stream",
     "text": [
      "\r",
      " 52 1873M   52  980M    0     0  4426k      0  0:07:13  0:03:46  0:03:27 5230k"
     ]
    },
    {
     "name": "stdout",
     "output_type": "stream",
     "text": [
      "\r",
      " 52 1873M   52  985M    0     0  4429k      0  0:07:13  0:03:47  0:03:26 5372k"
     ]
    },
    {
     "name": "stdout",
     "output_type": "stream",
     "text": [
      "\r",
      " 52 1873M   52  990M    0     0  4431k      0  0:07:13  0:03:48  0:03:25 5212k"
     ]
    },
    {
     "name": "stdout",
     "output_type": "stream",
     "text": [
      "\r",
      " 53 1873M   53  996M    0     0  4436k      0  0:07:12  0:03:49  0:03:23 5296k"
     ]
    },
    {
     "name": "stdout",
     "output_type": "stream",
     "text": [
      "\r",
      " 53 1873M   53 1001M    0     0  4439k      0  0:07:12  0:03:50  0:03:22 5263k"
     ]
    },
    {
     "name": "stdout",
     "output_type": "stream",
     "text": [
      "\r",
      " 53 1873M   53 1006M    0     0  4445k      0  0:07:11  0:03:51  0:03:20 5323k"
     ]
    },
    {
     "name": "stdout",
     "output_type": "stream",
     "text": [
      "\r",
      " 53 1873M   53 1010M    0     0  4443k      0  0:07:11  0:03:52  0:03:19 5104k"
     ]
    },
    {
     "name": "stdout",
     "output_type": "stream",
     "text": [
      "\r",
      " 54 1873M   54 1014M    0     0  4441k      0  0:07:12  0:03:53  0:03:19 4894k"
     ]
    },
    {
     "name": "stdout",
     "output_type": "stream",
     "text": [
      "\r",
      " 54 1873M   54 1019M    0     0  4443k      0  0:07:11  0:03:54  0:03:17 4750k"
     ]
    },
    {
     "name": "stdout",
     "output_type": "stream",
     "text": [
      "\r",
      " 54 1873M   54 1023M    0     0  4440k      0  0:07:12  0:03:55  0:03:17 4509k"
     ]
    },
    {
     "name": "stdout",
     "output_type": "stream",
     "text": [
      "\r",
      " 54 1873M   54 1027M    0     0  4441k      0  0:07:12  0:03:56  0:03:16 4239k"
     ]
    },
    {
     "name": "stdout",
     "output_type": "stream",
     "text": [
      "\r",
      " 55 1873M   55 1033M    0     0  4447k      0  0:07:11  0:03:57  0:03:14 4611k"
     ]
    },
    {
     "name": "stdout",
     "output_type": "stream",
     "text": [
      "\r",
      " 55 1873M   55 1040M    0     0  4458k      0  0:07:10  0:03:58  0:03:12 5274k"
     ]
    },
    {
     "name": "stdout",
     "output_type": "stream",
     "text": [
      "\r",
      " 55 1873M   55 1045M    0     0  4462k      0  0:07:09  0:03:59  0:03:10 5370k"
     ]
    },
    {
     "name": "stdout",
     "output_type": "stream",
     "text": [
      "\r",
      " 56 1873M   56 1050M    0     0  4463k      0  0:07:09  0:04:00  0:03:09 5541k"
     ]
    },
    {
     "name": "stdout",
     "output_type": "stream",
     "text": [
      "\r",
      " 56 1873M   56 1054M    0     0  4465k      0  0:07:09  0:04:01  0:03:08 5627k"
     ]
    },
    {
     "name": "stdout",
     "output_type": "stream",
     "text": [
      "\r",
      " 56 1873M   56 1061M    0     0  4472k      0  0:07:09  0:04:02  0:03:07 5677k"
     ]
    },
    {
     "name": "stdout",
     "output_type": "stream",
     "text": [
      "\r",
      " 57 1873M   57 1068M    0     0  4484k      0  0:07:07  0:04:03  0:03:04 5705k"
     ]
    },
    {
     "name": "stdout",
     "output_type": "stream",
     "text": [
      "\r",
      " 57 1873M   57 1076M    0     0  4501k      0  0:07:06  0:04:04  0:03:02 6371k"
     ]
    },
    {
     "name": "stdout",
     "output_type": "stream",
     "text": [
      "\r",
      " 57 1873M   57 1084M    0     0  4514k      0  0:07:05  0:04:05  0:03:00 6946k"
     ]
    },
    {
     "name": "stdout",
     "output_type": "stream",
     "text": [
      "\r",
      " 58 1873M   58 1092M    0     0  4530k      0  0:07:03  0:04:06  0:02:57 7658k"
     ]
    },
    {
     "name": "stdout",
     "output_type": "stream",
     "text": [
      "\r",
      " 58 1873M   58 1097M    0     0  4532k      0  0:07:03  0:04:07  0:02:56 7453k"
     ]
    },
    {
     "name": "stdout",
     "output_type": "stream",
     "text": [
      "\r",
      " 58 1873M   58 1102M    0     0  4536k      0  0:07:03  0:04:08  0:02:55 7072k"
     ]
    },
    {
     "name": "stdout",
     "output_type": "stream",
     "text": [
      "\r",
      " 59 1873M   59 1108M    0     0  4542k      0  0:07:02  0:04:09  0:02:53 6513k"
     ]
    },
    {
     "name": "stdout",
     "output_type": "stream",
     "text": [
      "\r",
      " 59 1873M   59 1113M    0     0  4545k      0  0:07:02  0:04:10  0:02:52 6065k"
     ]
    },
    {
     "name": "stdout",
     "output_type": "stream",
     "text": [
      "\r",
      " 59 1873M   59 1119M    0     0  4549k      0  0:07:01  0:04:11  0:02:50 5506k"
     ]
    },
    {
     "name": "stdout",
     "output_type": "stream",
     "text": [
      "\r",
      " 60 1873M   60 1125M    0     0  4554k      0  0:07:01  0:04:12  0:02:49 5656k"
     ]
    },
    {
     "name": "stdout",
     "output_type": "stream",
     "text": [
      "\r",
      " 60 1873M   60 1131M    0     0  4561k      0  0:07:00  0:04:13  0:02:47 5792k"
     ]
    },
    {
     "name": "stdout",
     "output_type": "stream",
     "text": [
      "\r",
      " 60 1873M   60 1136M    0     0  4567k      0  0:07:00  0:04:14  0:02:46 5819k"
     ]
    },
    {
     "name": "stdout",
     "output_type": "stream",
     "text": [
      "\r",
      " 60 1873M   60 1142M    0     0  4569k      0  0:06:59  0:04:15  0:02:44 5795k"
     ]
    },
    {
     "name": "stdout",
     "output_type": "stream",
     "text": [
      "\r",
      " 61 1873M   61 1146M    0     0  4567k      0  0:07:00  0:04:16  0:02:44 5466k"
     ]
    },
    {
     "name": "stdout",
     "output_type": "stream",
     "text": [
      "\r",
      " 61 1873M   61 1150M    0     0  4567k      0  0:07:00  0:04:17  0:02:43 5223k"
     ]
    },
    {
     "name": "stdout",
     "output_type": "stream",
     "text": [
      "\r",
      " 61 1873M   61 1156M    0     0  4573k      0  0:06:59  0:04:18  0:02:41 5184k"
     ]
    },
    {
     "name": "stdout",
     "output_type": "stream",
     "text": [
      "\r",
      " 62 1873M   62 1163M    0     0  4584k      0  0:06:58  0:04:19  0:02:39 5446k"
     ]
    },
    {
     "name": "stdout",
     "output_type": "stream",
     "text": [
      "\r",
      " 62 1873M   62 1171M    0     0  4599k      0  0:06:57  0:04:20  0:02:37 6136k"
     ]
    },
    {
     "name": "stdout",
     "output_type": "stream",
     "text": [
      "\r",
      " 63 1873M   63 1181M    0     0  4619k      0  0:06:55  0:04:21  0:02:34 7284k"
     ]
    },
    {
     "name": "stdout",
     "output_type": "stream",
     "text": [
      "\r",
      " 63 1873M   63 1190M    0     0  4635k      0  0:06:53  0:04:22  0:02:31 8109k"
     ]
    },
    {
     "name": "stdout",
     "output_type": "stream",
     "text": [
      "\r",
      " 64 1873M   64 1199M    0     0  4654k      0  0:06:52  0:04:23  0:02:29 8893k"
     ]
    },
    {
     "name": "stdout",
     "output_type": "stream",
     "text": [
      "\r",
      " 64 1873M   64 1210M    0     0  4677k      0  0:06:50  0:04:24  0:02:26 9541k"
     ]
    },
    {
     "name": "stdout",
     "output_type": "stream",
     "text": [
      "\r",
      " 65 1873M   65 1221M    0     0  4703k      0  0:06:47  0:04:25  0:02:22  9.9M"
     ]
    },
    {
     "name": "stdout",
     "output_type": "stream",
     "text": [
      "\r",
      " 65 1873M   65 1231M    0     0  4724k      0  0:06:46  0:04:26  0:02:20  9.9M"
     ]
    },
    {
     "name": "stdout",
     "output_type": "stream",
     "text": [
      "\r",
      " 66 1873M   66 1242M    0     0  4748k      0  0:06:44  0:04:27  0:02:17 10.4M"
     ]
    },
    {
     "name": "stdout",
     "output_type": "stream",
     "text": [
      "\r",
      " 66 1873M   66 1249M    0     0  4755k      0  0:06:43  0:04:28  0:02:15  9.8M"
     ]
    },
    {
     "name": "stdout",
     "output_type": "stream",
     "text": [
      "\r",
      " 67 1873M   67 1255M    0     0  4763k      0  0:06:42  0:04:29  0:02:13 9332k"
     ]
    },
    {
     "name": "stdout",
     "output_type": "stream",
     "text": [
      "\r",
      " 67 1873M   67 1260M    0     0  4763k      0  0:06:42  0:04:30  0:02:12 7945k"
     ]
    },
    {
     "name": "stdout",
     "output_type": "stream",
     "text": [
      "\r",
      " 67 1873M   67 1263M    0     0  4758k      0  0:06:43  0:04:31  0:02:12 6590k"
     ]
    },
    {
     "name": "stdout",
     "output_type": "stream",
     "text": [
      "\r",
      " 67 1873M   67 1268M    0     0  4757k      0  0:06:43  0:04:32  0:02:11 5238k"
     ]
    },
    {
     "name": "stdout",
     "output_type": "stream",
     "text": [
      "\r",
      " 67 1873M   67 1274M    0     0  4762k      0  0:06:42  0:04:33  0:02:09 5126k"
     ]
    },
    {
     "name": "stdout",
     "output_type": "stream",
     "text": [
      "\r",
      " 68 1873M   68 1280M    0 "
     ]
    },
    {
     "name": "stdout",
     "output_type": "stream",
     "text": [
      "    0  4771k      0  0:06:42  0:04:34  0:02:08 5161k"
     ]
    },
    {
     "name": "stdout",
     "output_type": "stream",
     "text": [
      "\r",
      " 68 1873M   68 1286"
     ]
    },
    {
     "name": "stdout",
     "output_type": "stream",
     "text": [
      "M    0     0  4774k      0  0:06:41  0:04:35  0:02:06 5339k"
     ]
    },
    {
     "name": "stdout",
     "output_type": "stream",
     "text": [
      "\r",
      " 68 1873M   68 1290M    0     0  4771k      0  0:06:42  0:04:36  0:02:06 5506k"
     ]
    },
    {
     "name": "stdout",
     "output_type": "stream",
     "text": [
      "\r",
      " 69 1873M   69 1294M    0     0  4768k      0  0:06:42  0:04:37  0:02:05 5369k"
     ]
    },
    {
     "name": "stdout",
     "output_type": "stream",
     "text": [
      "\r",
      " 69 1873M   69 1298M    0     0  4766k      0  0:06:42  0:04:38  0:02:04 5004k"
     ]
    },
    {
     "name": "stdout",
     "output_type": "stream",
     "text": [
      "\r",
      " 69 1873M   69 1302M    0     0  4765k      0  0:06:42  0:04:39  0:02:03 4471k"
     ]
    },
    {
     "name": "stdout",
     "output_type": "stream",
     "text": [
      "\r",
      " 69 1873M   69 1307M    0     0  4764k      0  0:06:42  0:04:40  0:02:02 4222k"
     ]
    },
    {
     "name": "stdout",
     "output_type": "stream",
     "text": [
      "\r",
      " 69 1873M   69 1311M    0     0  4761k      0  0:06:42  0:04:41  0:02:01 4209k"
     ]
    },
    {
     "name": "stdout",
     "output_type": "stream",
     "text": [
      "\r",
      " 70 1873M   70 1315M    0     0  4762k      0  0:06:42  0:04:42  0:02:00 4424k"
     ]
    },
    {
     "name": "stdout",
     "output_type": "stream",
     "text": [
      "\r",
      " 70 1873M   70 1321M    0     0  4767k      0  0:06:42  0:04:43  0:01:59 4768k"
     ]
    },
    {
     "name": "stdout",
     "output_type": "stream",
     "text": [
      "\r",
      " 70 1873M   70 1328M    0     0  4774k      0  0:06:41  0:04:44  0:01:57 5271k"
     ]
    },
    {
     "name": "stdout",
     "output_type": "stream",
     "text": [
      "\r",
      " 71 1873M   71 1332M    0     0  4773k      0  0:06:41  0:04:45  0:01:56 5284k"
     ]
    },
    {
     "name": "stdout",
     "output_type": "stream",
     "text": [
      "\r",
      " 71 1873M   71 1338M    0     0  4777k      0  0:06:41  0:04:46  0:01:55 5649k"
     ]
    },
    {
     "name": "stdout",
     "output_type": "stream",
     "text": [
      "\r",
      " 71 1873M   71 1344M    0     0  4781k      0  0:06:41  0:04:47  0:01:54 5860k"
     ]
    },
    {
     "name": "stdout",
     "output_type": "stream",
     "text": [
      "\r",
      " 71 1873M   71 1348M    0     0  4779k      0  0:06:41  0:04:48  0:01:53 5478k"
     ]
    },
    {
     "name": "stdout",
     "output_type": "stream",
     "text": [
      "\r",
      " 72 1873M   72 1352M    0     0  4777k      0  0:06:41  0:04:49  0:01:52 4937k"
     ]
    },
    {
     "name": "stdout",
     "output_type": "stream",
     "text": [
      "\r",
      " 72 1873M   72 1357M    0     0  4777k      0  0:06:41  0:04:50  0:01:51 5026k"
     ]
    },
    {
     "name": "stdout",
     "output_type": "stream",
     "text": [
      "\r",
      " 72 1873M   72 1362M    0     0  4779k      0  0:06:41  0:04:51  0:01:50 4888k"
     ]
    },
    {
     "name": "stdout",
     "output_type": "stream",
     "text": [
      "\r",
      " 73 1873M   73 1368M    0     0  4784k      0  0:06:41  0:04:52  0:01:49 4946k"
     ]
    },
    {
     "name": "stdout",
     "output_type": "stream",
     "text": [
      "\r",
      " 73 1873M   73 1374M    0     0  4787k      0  0:06:40  0:04:53  0:01:47 5270k"
     ]
    },
    {
     "name": "stdout",
     "output_type": "stream",
     "text": [
      "\r",
      " 73 1873M   73 1380M    0     0  4794k      0  0:06:40  0:04:54  0:01:46 5777k"
     ]
    },
    {
     "name": "stdout",
     "output_type": "stream",
     "text": [
      "\r",
      " 73 1873M   73 1385M    0     0  4795k      0  0:06:40  0:04:55  0:01:45 5853k"
     ]
    },
    {
     "name": "stdout",
     "output_type": "stream",
     "text": [
      "\r",
      " 74 1873M   74 1390M    0     0  4793k      0  0:06:40  0:04:56  0:01:44 5635k"
     ]
    },
    {
     "name": "stdout",
     "output_type": "stream",
     "text": [
      "\r",
      " 74 1873M   74 1392M    0     0  4785k      0  0:06:40  0:04:57  0:01:43 4880k"
     ]
    },
    {
     "name": "stdout",
     "output_type": "stream",
     "text": [
      "\r",
      " 74 1873M   74 1395M    0     0  4779k      0  0:06:41  0:04:58  0:01:43 4279k"
     ]
    },
    {
     "name": "stdout",
     "output_type": "stream",
     "text": [
      "\r",
      " 74 1873M   74 1398M    0     0  4773k      0  0:06:41  0:04:59  0:01:42 3545k"
     ]
    },
    {
     "name": "stdout",
     "output_type": "stream",
     "text": [
      "\r",
      " 74 1873M   74 1401M    0     0  4768k      0  0:06:42  0:05:00  0:01:42 3150k"
     ]
    },
    {
     "name": "stdout",
     "output_type": "stream",
     "text": [
      "\r",
      " 74 1873M   74 1404M    0     0  4764k      0  0:06:42  0:05:01  0:01:41 3017k"
     ]
    },
    {
     "name": "stdout",
     "output_type": "stream",
     "text": [
      "\r",
      " 75 1873M   75 1408M    0     0  4762k      0  0:06:42  0:05:02  0:01:40 3358k"
     ]
    },
    {
     "name": "stdout",
     "output_type": "stream",
     "text": [
      "\r",
      " 75 1873M   75 1414M    0     0  4764k      0  0:06:42  0:05:03  0:01:39 3914k"
     ]
    },
    {
     "name": "stdout",
     "output_type": "stream",
     "text": [
      "\r",
      " 75 1873M   75 1419M    0     0  4765k      0  0:06:42  0:05:04  0:01:38 4271k"
     ]
    },
    {
     "name": "stdout",
     "output_type": "stream",
     "text": [
      "\r",
      " 76 1873M   76 1424M    0     0  4769k      0  0:06:42  0:05:05  0:01:37 4821k"
     ]
    },
    {
     "name": "stdout",
     "output_type": "stream",
     "text": [
      "\r",
      " 76 1873M   76 1431M    0     0  4776k      0  0:06:41  0:05:06  0:01:35 5528k"
     ]
    },
    {
     "name": "stdout",
     "output_type": "stream",
     "text": [
      "\r",
      " 76 1873M   76 1437M    0     0  4780k      0  0:06:41  0:05:07  0:01:34 5904k"
     ]
    },
    {
     "name": "stdout",
     "output_type": "stream",
     "text": [
      "\r",
      " 76 1873M   76 1442M    0     0  4780k      0  0:06:41  0:05:08  0:01:33 5723k"
     ]
    },
    {
     "name": "stdout",
     "output_type": "stream",
     "text": [
      "\r",
      " 77 1873M   77 1446M    0     0  4780k      0  0:06:41  0:05:09  0:01:32 5700k"
     ]
    },
    {
     "name": "stdout",
     "output_type": "stream",
     "text": [
      "\r",
      " 77 1873M   77 1452M    0     0  4784k      0  0:06:41  0:05:10  0:01:31 5689k"
     ]
    },
    {
     "name": "stdout",
     "output_type": "stream",
     "text": [
      "\r",
      " 77 1873M   77 1457M    0     0  4785k      0  0:06:40  0:05:11  0:01:29 5323k"
     ]
    },
    {
     "name": "stdout",
     "output_type": "stream",
     "text": [
      "\r",
      " 78 1873M   78 1462M    0     0  4785k      0  0:06:40  0:05:12  0:01:28 5089k"
     ]
    },
    {
     "name": "stdout",
     "output_type": "stream",
     "text": [
      "\r",
      " 78 1873M   78 1468M    0     0  4790k      0  0:06:40  0:05:13  0:01:27 5379k"
     ]
    },
    {
     "name": "stdout",
     "output_type": "stream",
     "text": [
      "\r",
      " 78 1873M   78 1473M    0     0  4791k      0  0:06:40  0:05:14  0:01:26 5485k"
     ]
    },
    {
     "name": "stdout",
     "output_type": "stream",
     "text": [
      "\r",
      " 78 1873M   78 1477M    0     0  4788k      0  0:06:40  0:05:15  0:01:25 5040k"
     ]
    },
    {
     "name": "stdout",
     "output_type": "stream",
     "text": [
      "\r",
      " 79 1873M   79 1481M    0     0  4786k      0  0:06:40  0:05:16  0:01:24 4834k"
     ]
    },
    {
     "name": "stdout",
     "output_type": "stream",
     "text": [
      "\r",
      " 79 1873M   79 1485M    0     0  4782k      0  0:06:41  0:05:17  0:01:24 4592k"
     ]
    },
    {
     "name": "stdout",
     "output_type": "stream",
     "text": [
      "\r",
      " 79 1873M   79 1488M    0     0  4780k      0  0:06:41  0:05:18  0:01:23 4195k"
     ]
    },
    {
     "name": "stdout",
     "output_type": "stream",
     "text": [
      "\r",
      " 79 1873M   79 1493M    0     0  4780k      0  0:06:41  0:05:19  0:01:22 4068k"
     ]
    },
    {
     "name": "stdout",
     "output_type": "stream",
     "text": [
      "\r",
      " 79 1873M   79 1497M    0     0  4777k      0  0:06:41  0:05:20  0:01:21 4090k"
     ]
    },
    {
     "name": "stdout",
     "output_type": "stream",
     "text": [
      "\r",
      " 80 1873M   80 1500M    0     0  4774k      0  0:06:41  0:05:21  0:01:20 4028k"
     ]
    },
    {
     "name": "stdout",
     "output_type": "stream",
     "text": [
      "\r",
      " 80 1873M   80 1504M    0     0  4770k      0  0:06:42  0:05:22  0:01:20 3987k"
     ]
    },
    {
     "name": "stdout",
     "output_type": "stream",
     "text": [
      "\r",
      " 80 1873M   80 1507M    0     0  4766k      0  0:06:42  0:05:23  0:01:19 3850k"
     ]
    },
    {
     "name": "stdout",
     "output_type": "stream",
     "text": [
      "\r",
      " 80 1873M   80 1511M    0     0  4763k      0  0:06:42  0:05:24  0:01:18 3665k"
     ]
    },
    {
     "name": "stdout",
     "output_type": "stream",
     "text": [
      "\r",
      " 80 1873M   80 1515M    0     0  4762k      0  0:06:42  0:05:25  0:01:17 3783k"
     ]
    },
    {
     "name": "stdout",
     "output_type": "stream",
     "text": [
      "\r",
      " 81 1873M   81 1521M    0     0  4765k      0  0:06:42  0:05:26  0:01:16 4181k"
     ]
    },
    {
     "name": "stdout",
     "output_type": "stream",
     "text": [
      "\r",
      " 81 1873M   81 1526M    0     0  4766k      0  0:06:42  0:05:27  0:01:15 4504k"
     ]
    },
    {
     "name": "stdout",
     "output_type": "stream",
     "text": [
      "\r",
      " 81 1873M   81 1532M    0     0  4770k      0  0:06:42  0:05:28  0:01:14 5046k"
     ]
    },
    {
     "name": "stdout",
     "output_type": "stream",
     "text": [
      "\r",
      " 82 1873M   82 1537M    0     0  4771k      0  0:06:42  0:05:29  0:01:13 5330k"
     ]
    },
    {
     "name": "stdout",
     "output_type": "stream",
     "text": [
      "\r",
      " 82 1873M   82 1542M    0     0  4772k      0  0:06:42  0:05:30  0:01:12 5430k"
     ]
    },
    {
     "name": "stdout",
     "output_type": "stream",
     "text": [
      "\r",
      " 82 1873M   82 1548M    0     0  4775k      0  0:06:41  0:05:31  0:01:10 5469k"
     ]
    },
    {
     "name": "stdout",
     "output_type": "stream",
     "text": [
      "\r",
      " 82 1873M   82 1555M    0     0  4782k      0  0:06:41  0:05:32  0:01:09 5848k"
     ]
    },
    {
     "name": "stdout",
     "output_type": "stream",
     "text": [
      "\r",
      " 83 1873M   83 1559M    0     0  4782k      0  0:06:41  0:05:33  0:01:08 5583k"
     ]
    },
    {
     "name": "stdout",
     "output_type": "stream",
     "text": [
      "\r",
      " 83 1873M   83 1565M    0     0  4785k      0  0:06:40  0:05:34  0:01:06 5681k"
     ]
    },
    {
     "name": "stdout",
     "output_type": "stream",
     "text": [
      "\r",
      " 83 1873M   83 1569M    0     0  4785k      0  0:06:40  0:05:35  0:01:05 5650k"
     ]
    },
    {
     "name": "stdout",
     "output_type": "stream",
     "text": [
      "\r",
      " 84 1873M   84 1574M    0     0  4785k      0  0:06:41  0:05:36  0:01:05 5384k"
     ]
    },
    {
     "name": "stdout",
     "output_type": "stream",
     "text": [
      "\r",
      " 84 1873M   84 1580M    0     0  4788k      0  0:06:40  0:05:37  0:01:03 5161k"
     ]
    },
    {
     "name": "stdout",
     "output_type": "stream",
     "text": [
      "\r",
      " 84 1873M   84 1587M    0     0  4795k      0  0:06:40  0:05:38  0:01:02 5673k"
     ]
    },
    {
     "name": "stdout",
     "output_type": "stream",
     "text": [
      "\r",
      " 85 1873M   85 1593M    0     0  4800k      0  0:06:39  0:05:39  0:01:00 5844k"
     ]
    },
    {
     "name": "stdout",
     "output_type": "stream",
     "text": [
      "\r",
      " 85 1873M   85 1600M    0     0  4807k      0  0:06:39  0:05:40  0:00:59 6298k"
     ]
    },
    {
     "name": "stdout",
     "output_type": "stream",
     "text": [
      "\r",
      " 85 1873M   85 1607M    0     0  4814k      0  0:06:38  0:05:41  0:00:57 6795k"
     ]
    },
    {
     "name": "stdout",
     "output_type": "stream",
     "text": [
      "\r",
      " 85 1873M   85 1611M    0     0  4811k      0  0:06:38  0:05:42  0:00:56 6392k"
     ]
    },
    {
     "name": "stdout",
     "output_type": "stream",
     "text": [
      "\r",
      " 86 1873M   86 1615M    0     0  4808k      0  0:06:39  0:05:43  0:00:56 5663k"
     ]
    },
    {
     "name": "stdout",
     "output_type": "stream",
     "text": [
      "\r",
      " 86 1873M   86 1618M    0     0  4805k      0  0:06:39  0:05:44  0:00:55 5124k"
     ]
    },
    {
     "name": "stdout",
     "output_type": "stream",
     "text": [
      "\r",
      " 86 1873M   86 1622M    0     0  4802k      0  0:06:39  0:05:45  0:00:54 4449k"
     ]
    },
    {
     "name": "stdout",
     "output_type": "stream",
     "text": [
      "\r",
      " 86 1873M   86 1625M    0     0  4796k      0  0:06:40  0:05:46  0:00:54 3563k"
     ]
    },
    {
     "name": "stdout",
     "output_type": "stream",
     "text": [
      "\r",
      " 86 1873M   86 1627M    0     0  4789k      0  0:06:40  0:05:47  0:00:53 3237k"
     ]
    },
    {
     "name": "stdout",
     "output_type": "stream",
     "text": [
      "\r",
      " 86 1873M   86 1630M    0     0  4783k      0  0:06:41  0:05:48  0:00:53 3079k"
     ]
    },
    {
     "name": "stdout",
     "output_type": "stream",
     "text": [
      "\r",
      " 87 1873M   87 1634M    0     0  4781k      0  0:06:41  0:05:49  0:00:52 3145k"
     ]
    },
    {
     "name": "stdout",
     "output_type": "stream",
     "text": [
      "\r",
      " 87 1873M   87 1637M    0     0  4779k      0  0:06:41  0:05:50  0:00:51 3205k"
     ]
    },
    {
     "name": "stdout",
     "output_type": "stream",
     "text": [
      "\r",
      " 87 1873M   87 1641M    0     0  4776k      0  0:06:41  0:05:51  0:00:50 3410k"
     ]
    },
    {
     "name": "stdout",
     "output_type": "stream",
     "text": [
      "\r",
      " 87 1873M   87 1646M    0     0  4777k      0  0:06:41  0:05:52  0:00:49 3941k"
     ]
    },
    {
     "name": "stdout",
     "output_type": "stream",
     "text": [
      "\r",
      " 88 1873M   88 1651M    0     0  4778k      0  0:06:41  0:05:53  0:00:48 4422k"
     ]
    },
    {
     "name": "stdout",
     "output_type": "stream",
     "text": [
      "\r",
      " 88 1873M   88 1655M    0     0  4776k      0  0:06:41  0:05:54  0:00:47 4386k"
     ]
    },
    {
     "name": "stdout",
     "output_type": "stream",
     "text": [
      "\r",
      " 88 1873M   88 1658M    0     0  4772k      0  0:06:42  0:05:55  0:00:47 4272k"
     ]
    },
    {
     "name": "stdout",
     "output_type": "stream",
     "text": [
      "\r",
      " 88 1873M   88 1661M    0     0  4766k      0  0:06:42  0:05:56  0:00:46 4045k"
     ]
    },
    {
     "name": "stdout",
     "output_type": "stream",
     "text": [
      "\r",
      " 88 1873M   88 1664M    0     0  4761k      0  0:06:43  0:05:57  0:00:46 3649k"
     ]
    },
    {
     "name": "stdout",
     "output_type": "stream",
     "text": [
      "\r",
      " 88 1873M   88 1667M    0     0  4757k      0  0:06:43  0:05:58  0:00:45 3246k"
     ]
    },
    {
     "name": "stdout",
     "output_type": "stream",
     "text": [
      "\r",
      " 89 1873M   89 1671M    0     0  4754k      0  0:06:43  0:05:59  0:00:44 3182k"
     ]
    },
    {
     "name": "stdout",
     "output_type": "stream",
     "text": [
      "\r",
      " 89 1873M   89 1674M    0     0  4751k      0  0:06:43  0:06:00  0:00:43 3296k"
     ]
    },
    {
     "name": "stdout",
     "output_type": "stream",
     "text": [
      "\r",
      " 89 1873M   89 1678M    0     0  4748k      0  0:06:44  0:06:01  0:00:43 3490k"
     ]
    },
    {
     "name": "stdout",
     "output_type": "stream",
     "text": [
      "\r",
      " 89 1873M   89 1681M    0     0  4745k      0  0:06:44  0:06:02  0:00:42 3617k"
     ]
    },
    {
     "name": "stdout",
     "output_type": "stream",
     "text": [
      "\r",
      " 89 1873M   89 1686M    0     0  4745k      0  0:06:44  0:06:03  0:00:41 3873k"
     ]
    },
    {
     "name": "stdout",
     "output_type": "stream",
     "text": [
      "\r",
      " 90 1873M   90 1691M    0     0  4745k      0  0:06:44  0:06:04  0:00:40 4136k"
     ]
    },
    {
     "name": "stdout",
     "output_type": "stream",
     "text": [
      "\r",
      " 90 1873M   90 1695M    0     0  4744k      0  0:06:44  0:06:05  0:00:39 4171k"
     ]
    },
    {
     "name": "stdout",
     "output_type": "stream",
     "text": [
      "\r",
      " 90 1873M   90 1700M    0     0  4744k      0  0:06:44  0:06:06  0:00:38 4423k"
     ]
    },
    {
     "name": "stdout",
     "output_type": "stream",
     "text": [
      "\r",
      " 90 1873M   90 1704M    0     0  4743k      0  0:06:44  0:06:07  0:00:37 4611k"
     ]
    },
    {
     "name": "stdout",
     "output_type": "stream",
     "text": [
      "\r",
      " 91 1873M   91 1709M    0     0  4744k      0  0:06:44  0:06:08  0:00:36 4668k"
     ]
    },
    {
     "name": "stdout",
     "output_type": "stream",
     "text": [
      "\r",
      " 91 1873M   91 1713M    0     0  4743k      0  0:06:44  0:06:09  0:00:35 4609k"
     ]
    },
    {
     "name": "stdout",
     "output_type": "stream",
     "text": [
      "\r",
      " 91 1873M   91 1717M    0     0  4740k      0  0:06:44  0:06:10  0:00:34 4477k"
     ]
    },
    {
     "name": "stdout",
     "output_type": "stream",
     "text": [
      "\r",
      " 91 1873M   91 1720M    0     0  4737k      0  0:06:45  0:06:11  0:00:34 4199k"
     ]
    },
    {
     "name": "stdout",
     "output_type": "stream",
     "text": [
      "\r",
      " 91 1873M   91 1723M    0     0  4733k      0  0:06:45  0:06:12  0:00:33 3970k"
     ]
    },
    {
     "name": "stdout",
     "output_type": "stream",
     "text": [
      "\r",
      " 92 1873M   92 1727M    0     0  4730k      0  0:06:45  0:06:13  0:00:32 3747k"
     ]
    },
    {
     "name": "stdout",
     "output_type": "stream",
     "text": [
      "\r",
      " 92 1873M   92 1731M    0     0  4728k      0  0:06:45  0:06:14  0:00:31 3558k"
     ]
    },
    {
     "name": "stdout",
     "output_type": "stream",
     "text": [
      "\r",
      " 92 1873M   92 1733M    0     0  4722k      0  0:06:46  0:06:15  0:00:31 3368k"
     ]
    },
    {
     "name": "stdout",
     "output_type": "stream",
     "text": [
      "\r",
      " 92 1873M   92 1736M    0     0  4716k      0  0:06:46  0:06:16  0:00:30 3196k"
     ]
    },
    {
     "name": "stdout",
     "output_type": "stream",
     "text": [
      "\r",
      " 92 1873M   92 1738M    0     0  4711k      0  0:06:47  0:06:17  0:00:30 3054k"
     ]
    },
    {
     "name": "stdout",
     "output_type": "stream",
     "text": [
      "\r",
      " 92 1873M   92 1742M    0     0  4708k      0  0:06:47  0:06:18  0:00:29 3071k"
     ]
    },
    {
     "name": "stdout",
     "output_type": "stream",
     "text": [
      "\r",
      " 93 1873M   93 1746M    0     0  4708k      0  0:06:47  0:06:19  0:00:28 3217k"
     ]
    },
    {
     "name": "stdout",
     "output_type": "stream",
     "text": [
      "\r",
      " 93 1873M   93 1751M    0     0  4707k      0  0:06:47  0:06:20  0:00:27 3627k"
     ]
    },
    {
     "name": "stdout",
     "output_type": "stream",
     "text": [
      "\r",
      " 93 1873M   93 1754M    0     0  4704k      0  0:06:47  0:06:21  0:00:26 3803k"
     ]
    },
    {
     "name": "stdout",
     "output_type": "stream",
     "text": [
      "\r",
      " 93 1873M   93 1758M    0     0  4702k      0  0:06:48  0:06:22  0:00:26 4058k"
     ]
    },
    {
     "name": "stdout",
     "output_type": "stream",
     "text": [
      "\r",
      " 94 1873M   94 1762M    0     0  4700k      0  0:06:48  0:06:23  0:00:25 4069k"
     ]
    },
    {
     "name": "stdout",
     "output_type": "stream",
     "text": [
      "\r",
      " 94 1873M   94 1765M    0     0  4696k      0  0:06:48  0:06:24  0:00:24 3779k"
     ]
    },
    {
     "name": "stdout",
     "output_type": "stream",
     "text": [
      "\r",
      " 94 1873M   94 1767M    0     0  4690k      0  0:06:49  0:06:25  0:00:24 3347k"
     ]
    },
    {
     "name": "stdout",
     "output_type": "stream",
     "text": [
      "\r",
      " 94 1873M   94 1770M    0     0  4684k      0  0:06:49  0:06:26  0:00:23 3171k"
     ]
    },
    {
     "name": "stdout",
     "output_type": "stream",
     "text": [
      "\r",
      " 94 1873M   94 1773M    0     0  4681k      0  0:06:49  0:06:27  0:00:22 3060k"
     ]
    },
    {
     "name": "stdout",
     "output_type": "stream",
     "text": [
      "\r",
      " 94 1873M   94 1778M    0     0  4681k      0  0:06:49  0:06:28  0:00:21 3215k"
     ]
    },
    {
     "name": "stdout",
     "output_type": "stream",
     "text": [
      "\r",
      " 95 1873M   95 1780M    0     0  4676k      0  0:06:50  0:06:29  0:00:21 3153k"
     ]
    },
    {
     "name": "stdout",
     "output_type": "stream",
     "text": [
      "\r",
      " 95 1873M   95 1782M    0     0  4669k      0  0:06:50  0:06:30  0:00:20 3073k"
     ]
    },
    {
     "name": "stdout",
     "output_type": "stream",
     "text": [
      "\r",
      " 95 1873M   95 1784M    0     0  4663k      0  0:06:51  0:06:31  0:00:20 2990k"
     ]
    },
    {
     "name": "stdout",
     "output_type": "stream",
     "text": [
      "\r",
      " 95 1873M   95 1788M    0     0  4659k      0  0:06:51  0:06:32  0:00:19 2970k"
     ]
    },
    {
     "name": "stdout",
     "output_type": "stream",
     "text": [
      "\r",
      " 95 1873M   95 1792M    0     0  4659k      0  0:06:51  0:06:33  0:00:18 2913k"
     ]
    },
    {
     "name": "stdout",
     "output_type": "stream",
     "text": [
      "\r",
      " 95 1873M   95 1796M    0     0  4657k      0  0:06:52  0:06:34  0:00:18 3150k"
     ]
    },
    {
     "name": "stdout",
     "output_type": "stream",
     "text": [
      "\r",
      " 95 1873M   95 1798M    0     0  4652k      0  0:06:52  0:06:35  0:00:17 3303k"
     ]
    },
    {
     "name": "stdout",
     "output_type": "stream",
     "text": [
      "\r",
      " 96 1873M   96 1801M    0     0  4648k      0  0:06:52  0:06:36  0:00:16 3477k"
     ]
    },
    {
     "name": "stdout",
     "output_type": "stream",
     "text": [
      "\r",
      " 96 1873M   96 1805M    0     0  4646k      0  0:06:52  0:06:37  0:00:15 3591k"
     ]
    },
    {
     "name": "stdout",
     "output_type": "stream",
     "text": [
      "\r",
      " 96 1873M   96 1807M    0     0  4640k      0  0:06:53  0:06:38  0:00:15 3204k"
     ]
    },
    {
     "name": "stdout",
     "output_type": "stream",
     "text": [
      "\r",
      " 96 1873M   96 1810M    0     0  4635k      0  0:06:53  0:06:39  0:00:14 2952k"
     ]
    },
    {
     "name": "stdout",
     "output_type": "stream",
     "text": [
      "\r",
      " 96 1873M   96 1814M    0     0  4633k      0  0:06:54  0:06:40  0:00:14 3143k"
     ]
    },
    {
     "name": "stdout",
     "output_type": "stream",
     "text": [
      "\r",
      " 97 1873M   97 1818M    0     0  4632k      0  0:06:54  0:06:41  0:00:13 3348k"
     ]
    },
    {
     "name": "stdout",
     "output_type": "stream",
     "text": [
      "\r",
      " 97 1873M   97 1821M    0     0  4629k      0  0:06:54  0:06:42  0:00:12 3305k"
     ]
    },
    {
     "name": "stdout",
     "output_type": "stream",
     "text": [
      "\r",
      " 97 1873M   97 1825M    0     0  4626k      0  0:06:54  0:06:43  0:00:11 3488k"
     ]
    },
    {
     "name": "stdout",
     "output_type": "stream",
     "text": [
      "\r",
      " 97 1873M   97 1828M    0     0  4623k      0  0:06:54  0:06:44  0:00:10 3686k"
     ]
    },
    {
     "name": "stdout",
     "output_type": "stream",
     "text": [
      "\r",
      " 97 1873M   97 1832M    0     0  4623k      0  0:06:55  0:06:45  0:00:10 3829k"
     ]
    },
    {
     "name": "stdout",
     "output_type": "stream",
     "text": [
      "\r",
      " 98 1873M   98 1836M    0     0  4622k      0  0:06:55  0:06:46  0:00:09 3833k"
     ]
    },
    {
     "name": "stdout",
     "output_type": "stream",
     "text": [
      "\r",
      " 98 1873M   98 1839M    0"
     ]
    },
    {
     "name": "stdout",
     "output_type": "stream",
     "text": [
      "     0  4617k      0  0:06:55  0:06:47  0:00:08 3647k"
     ]
    },
    {
     "name": "stdout",
     "output_type": "stream",
     "text": [
      "\r",
      " 98 1873M   98 1841M    0     0  4611k      0  0:06:56  0:06:48  0:00:08 3407k"
     ]
    },
    {
     "name": "stdout",
     "output_type": "stream",
     "text": [
      "\r",
      " 98 1873M   98 1844M    0     0  4607k      0  0:06:56  0:06:49  0:00:07 3232k"
     ]
    },
    {
     "name": "stdout",
     "output_type": "stream",
     "text": [
      "\r",
      " 98 1873M   98 1846M    0     0  4602k      0  0:06:56  0:06:50  0:00:06 2871k"
     ]
    },
    {
     "name": "stdout",
     "output_type": "stream",
     "text": [
      "\r",
      " 98 1873M   98 1849M    0     0  4597k      0  0:06:57  0:06:51  0:00:06 2605k"
     ]
    },
    {
     "name": "stdout",
     "output_type": "stream",
     "text": [
      "\r",
      " 98 1873M   98 1851M    0     0  4592k      0  0:06:57  0:06:52  0:00:05 2517k"
     ]
    },
    {
     "name": "stdout",
     "output_type": "stream",
     "text": [
      "\r",
      " 98 1873M   98 1854M    0     0  4588k      0  0:06:58  0:06:53  0:00:05 2689k"
     ]
    },
    {
     "name": "stdout",
     "output_type": "stream",
     "text": [
      "\r",
      " 99 1873M   99 1858M    0     0  4586k      0  0:06:58  0:06:54  0:00:04 2886k"
     ]
    },
    {
     "name": "stdout",
     "output_type": "stream",
     "text": [
      "\r",
      " 99 1873M   99 1862M    0     0  4584k      0  0:06:58  0:06:55  0:00:03 3099k"
     ]
    },
    {
     "name": "stdout",
     "output_type": "stream",
     "text": [
      "\r",
      " 99 1873M   99 1865M    0     0  4580k      0  0:06:58  0:06:56  0:00:02 3180k"
     ]
    },
    {
     "name": "stdout",
     "output_type": "stream",
     "text": [
      "\r",
      " 99 1873M   99 1868M    0     0  4578k      0  0:06:59  0:06:57  0:00:02 3417k"
     ]
    },
    {
     "name": "stdout",
     "output_type": "stream",
     "text": [
      "\r",
      " 99 1873M   99 1872M    0     0  4576k      0  0:06:59  0:06:58  0:00:01 3625k"
     ]
    },
    {
     "name": "stdout",
     "output_type": "stream",
     "text": [
      "\r",
      "100 1873M  100 1873M    0     0  4575k      0  0:06:59  0:06:59 --:--:-- 3606k\r\n"
     ]
    },
    {
     "name": "stdout",
     "output_type": "stream",
     "text": [
      "hlsp_smarts_tess_ffi_all_tess_v1.0_sim.fits\r\n"
     ]
    }
   ],
   "source": [
    "# Download and extract training data\n",
    "# Comment this cell out if you've already downloaded and extracted the data once!\n",
    "!curl -o hlsp_smarts_tess_ffi_all_tess_v1.0_cat.tar.gz https://archive.stsci.edu/hlsps/smarts/tess/hlsp_smarts_tess_ffi_all_tess_v1.0_cat.tar.gz\n",
    "!tar -xvzf hlsp_smarts_tess_ffi_all_tess_v1.0_cat.tar.gz"
   ]
  },
  {
   "cell_type": "markdown",
   "id": "f52414b4-5826-4db2-9fed-37784fd62b7f",
   "metadata": {},
   "source": [
    "We will partition the data into three sets: a training, validation, and test set.\n",
    "- The training set is used to fit the CNN parameters\n",
    "- The validation set is held-out for use to determine when to stop training. The training loss will decrease indefinitely, but the validation loss will stop decreasing when the CNN begins to overfit, signalling that it's reached a local maximum in its ability to generalize to new data.\n",
    "- The test set is used for the final performance evaluation.\n",
    "\n",
    "We use Pytorch `Dataset` (subclassed here) and `DataLoader` (used below) to load the wavelet data. Pytorch `Dataset` and `DataLoader` can be accessed in batches, which makes training more efficient."
   ]
  },
  {
   "cell_type": "code",
   "execution_count": 4,
   "id": "2a002abd",
   "metadata": {
    "execution": {
     "iopub.execute_input": "2025-08-26T15:56:01.164043Z",
     "iopub.status.busy": "2025-08-26T15:56:01.163814Z",
     "iopub.status.idle": "2025-08-26T15:56:01.172903Z",
     "shell.execute_reply": "2025-08-26T15:56:01.172355Z"
    }
   },
   "outputs": [],
   "source": [
    "# Define Dataset and Dataloader classes\n",
    "class WaveletDataset(Dataset):\n",
    "    \"\"\"\n",
    "    WaveletDataset to read in the training data.\n",
    "\n",
    "    Attributes\n",
    "    ----------\n",
    "    periods: array of rotation period corresponding to each wavelet transform.\n",
    "\n",
    "    wavelets: array containing the stack of wavelet transforms.\n",
    "    \"\"\"\n",
    "\n",
    "    def __init__(self, periods, wavelets, mode, random_seed=42, max_n=10000, split=(8, 1, 1), normalize=True):\n",
    "        \"\"\"\n",
    "        Parameters\n",
    "        ----------\n",
    "        `periods` (numpy.ndarray): the array of rotation periods, or labels.\n",
    "\n",
    "        `wavelets` (numpy.ndarray): the array of wavelet power spectra, or features.\n",
    "\n",
    "        `mode` (str): must be one of \"train\", \"validation\", or \"test\". Loads different data\n",
    "            depending on the specified mode.\n",
    "\n",
    "        `random_seed` (int, optional): seed for random number generator for \n",
    "            reproducibility.\n",
    "\n",
    "        `max_n` (int, optional): the number of training examples to use.\n",
    "\n",
    "        `split` (list-like): the split fractions for train/validation/test partitions\n",
    "\n",
    "        `normalize` (bool): whether to divide the periods and wavelets by their maximum values.\n",
    "        \"\"\"\n",
    "\n",
    "        # create shuffled index and shuffle arrays\n",
    "        np.random.seed(random_seed)\n",
    "        idx = np.random.choice(np.arange(len(periods), dtype=int), size=max_n, replace=False)\n",
    "        p = periods[idx]\n",
    "        w = wavelets[idx]\n",
    "\n",
    "        if normalize:\n",
    "            pmax = periods.max().item()\n",
    "            wmax = wavelets.max().item()\n",
    "            p = (p/pmax).astype(np.float32)\n",
    "            w = (w/wmax).astype(np.float32)\n",
    "        else:\n",
    "            pmax = np.nan\n",
    "            wmax = np.nan\n",
    "            p = p.astype(np.float32)\n",
    "            w = w.astype(np.uint8)\n",
    "        self.pmax = pmax\n",
    "        self.wmax = wmax\n",
    "\n",
    "        # determine how many examples to use for each partition\n",
    "        n_train, n_val, _ = (max_n * np.array(split)/np.sum(split)).astype(int).cumsum()\n",
    "\n",
    "        if mode == \"train\":\n",
    "            p = p[:n_train]\n",
    "            w = w[:n_train]\n",
    "        elif mode == \"validation\":\n",
    "            p = p[n_train:n_val]\n",
    "            w = w[n_train:n_val]\n",
    "        elif mode == \"test\":\n",
    "            p = p[n_val:]\n",
    "            w = w[n_val:]\n",
    "        else:\n",
    "            raise ValueError(\"`mode` must be one of 'train', 'validation', or 'test'.\")\n",
    "\n",
    "        # Assign periods and wavelets to class attributes\n",
    "        self.wavelets = w\n",
    "        self.periods = p\n",
    "\n",
    "    def __len__(self):\n",
    "        \"\"\"Returns the number of training examples in the Dataset.\n",
    "        \"\"\"\n",
    "        return len(self.periods)\n",
    "\n",
    "    def __getitem__(self, idx):\n",
    "        \"\"\"\n",
    "        The data accessor.\n",
    "\n",
    "        Parameters\n",
    "        ----------\n",
    "        `idx` (list-like): the list of indices to be accessed\n",
    "\n",
    "        Returns\n",
    "        -------\n",
    "        `X` (tensor): substack of wavelet transforms\n",
    "\n",
    "        `label` (tensor): sub-array of rotation periods\n",
    "        \"\"\"\n",
    "        if torch.is_tensor(idx):\n",
    "            idx = idx.tolist()\n",
    "        X = torch.tensor(self.wavelets[idx], dtype=torch.float32).unsqueeze(0)\n",
    "        label = torch.tensor(self.periods[idx, np.newaxis])\n",
    "        return X, label"
   ]
  },
  {
   "cell_type": "code",
   "execution_count": 5,
   "id": "754d5099",
   "metadata": {
    "execution": {
     "iopub.execute_input": "2025-08-26T15:56:01.174541Z",
     "iopub.status.busy": "2025-08-26T15:56:01.174370Z",
     "iopub.status.idle": "2025-08-26T15:56:02.959387Z",
     "shell.execute_reply": "2025-08-26T15:56:02.958755Z"
    },
    "scrolled": true
   },
   "outputs": [
    {
     "name": "stdout",
     "output_type": "stream",
     "text": [
      "Reading data from hlsp_smarts_tess_ffi_all_tess_v1.0_sim.fits..."
     ]
    },
    {
     "name": "stdout",
     "output_type": "stream",
     "text": [
      "Done.\n",
      "Storing training data into DataLoaders...Done.\n"
     ]
    }
   ],
   "source": [
    "# Read SMARTS data into data loaders\n",
    "filename = \"hlsp_smarts_tess_ffi_all_tess_v1.0_sim.fits\"\n",
    "print(f\"Reading data from {filename}...\", end=\"\")\n",
    "\n",
    "with fits.open(filename, memmap=True) as f:\n",
    "    p = f[1].data[\"Period\"]\n",
    "    w = f[2].data\n",
    "    train_dataset = WaveletDataset(p, w, mode=\"train\", max_n=max_n, split=split)\n",
    "    valid_dataset = WaveletDataset(p, w, mode=\"validation\", max_n=max_n, split=split)\n",
    "    test_dataset = WaveletDataset(p, w, mode=\"test\", max_n=max_n, split=split)\n",
    "\n",
    "print(\"Done.\")\n",
    "\n",
    "print(\"Storing training data into DataLoaders...\", end=\"\")\n",
    "train_loader = torch.utils.data.DataLoader(train_dataset, batch_size=50)\n",
    "valid_loader = torch.utils.data.DataLoader(valid_dataset, batch_size=50)\n",
    "print(\"Done.\")"
   ]
  },
  {
   "cell_type": "code",
   "execution_count": 6,
   "id": "d01d6ea4-db7b-4aa9-b77c-218b78f8fe02",
   "metadata": {
    "execution": {
     "iopub.execute_input": "2025-08-26T15:56:02.961271Z",
     "iopub.status.busy": "2025-08-26T15:56:02.960967Z",
     "iopub.status.idle": "2025-08-26T15:56:03.314386Z",
     "shell.execute_reply": "2025-08-26T15:56:03.313868Z"
    }
   },
   "outputs": [
    {
     "data": {
      "image/png": "[encoded data removed]",
      "text/plain": [
       "<Figure size 640x480 with 2 Axes>"
      ]
     },
     "metadata": {},
     "output_type": "display_data"
    }
   ],
   "source": [
    "# Plot an example WPS\n",
    "wl, p = train_dataset[8]\n",
    "\n",
    "wldata = wl.squeeze().numpy()\n",
    "\n",
    "plt.figure()\n",
    "plt.pcolormesh(\n",
    "    np.linspace(0, 360, len(wldata)),  # time baseline is about a year\n",
    "    np.geomspace(0.1, 180, len(wldata)),  # period axis goes from 0.1 to 180\n",
    "    wldata,\n",
    "    shading=\"nearest\",\n",
    "    cmap=\"binary_r\"\n",
    ")\n",
    "plt.yscale(\"log\")\n",
    "plt.xlabel(\"Time (days)\")\n",
    "plt.ylabel(\"Period (days)\")\n",
    "plt.gca().invert_yaxis()\n",
    "plt.title(\"SMARTS Wavelet Power Spectrum\")\n",
    "plt.colorbar(label=\"Normalized Power\")\n",
    "\n",
    "# Plot the actual rotation period of the simulated star\n",
    "plt.axhline(180*p.numpy().item(), color=\"r\", linestyle=\":\");"
   ]
  },
  {
   "cell_type": "markdown",
   "id": "b71a068b-7f66-48fd-b8fd-c4ed4120cca4",
   "metadata": {},
   "source": [
    "This is an example of a WPS. For sinusoidal signals, there is a horizontal band of power at the dominant frequency. This example star has an equatorial rotation period of about 9 days, but the dominant frequency from the power spectrum is about 10.5 days. This is due to surface differential rotation, where spots emerge at higher latitudes that rotate more slowly than the equator.\n",
    "\n",
    "This panel (without the axes or colorbar) is what the CNN will be trained on."
   ]
  },
  {
   "cell_type": "markdown",
   "id": "5e0173b8-c644-44a8-bfc6-139ffcc5afaa",
   "metadata": {},
   "source": [
    "## 2. Build the CNN\n",
    "\n",
    "We will build a CNN that takes 2D input (the WPS) and predicts two values: the stellar rotation period and its corresponding uncertainty. The CNN has the following aspects:\n",
    "- Three 2D convolution layers for feature extraction\n",
    "- ReLU activation\n",
    "- 1D max pooling in the time axis, for dimensionality reduction without losing frequency resolution.\n",
    "- Dropout to build redundancy and avoid overfitting\n",
    "- Softplus output for regression\n",
    "\n",
    "The CNN also has a configurable number of feature extractors (also called \"kernels\" or \"filters\"), which is set by the `c` parameter. It defaults to `[8, 16, 32]`, so that each successive convolution layer increases in depth by a factor of 2. You might also try `[16, 32, 64]` or `[32, 64, 128]` to see whether more feature extractors improve the performance."
   ]
  },
  {
   "cell_type": "code",
   "execution_count": 7,
   "id": "55069762-c646-4d80-9313-1b0f23be16bd",
   "metadata": {
    "execution": {
     "iopub.execute_input": "2025-08-26T15:56:03.316294Z",
     "iopub.status.busy": "2025-08-26T15:56:03.316122Z",
     "iopub.status.idle": "2025-08-26T15:56:03.323387Z",
     "shell.execute_reply": "2025-08-26T15:56:03.322901Z"
    }
   },
   "outputs": [],
   "source": [
    "class ConvNet(nn.Module):\n",
    "    \"\"\"\n",
    "    A relatively simple 2D Convolutional Neural Network with a configurable\n",
    "    number of trainable convolution kernels.\n",
    "    \n",
    "    Parameters\n",
    "    ----------\n",
    "    c (list of ints, [8, 16, 32]): List of convolutional kernel depths.\n",
    "    \n",
    "    k (int or list of ints, 3): Convolutional kernel widths. If an int is\n",
    "        passed, it will be multiplied into a list of length `len(c)`.\n",
    "    \"\"\"\n",
    "    def __init__(self, c=[8, 16, 32], k=3):\n",
    "        if isinstance(k, int):\n",
    "            k = [k]*len(c)\n",
    "            \n",
    "        n_nodes = (64 - (sum(k) - len(k))) * c[-1]\n",
    "\n",
    "        super(ConvNet, self).__init__()\n",
    "        self.conv1 = nn.Conv2d(  1,  c[0], k[0], 1)  # 62 x 20\n",
    "        self.conv2 = nn.Conv2d(c[0], c[1], k[1], 1)  # 60 x 6 \n",
    "        self.conv3 = nn.Conv2d(c[1], c[2], k[2], 1)  # 58 x 1\n",
    "        self.fc1 = nn.Linear(n_nodes, 256)  # 58 x 32 = 1856\n",
    "        self.fc2 = nn.Linear(256, 64)\n",
    "        self.fc3 = nn.Linear(64, 2)\n",
    "        self.dropout1 = nn.Dropout(0.1)\n",
    "        self.dropout2 = nn.Dropout2d(0.1)\n",
    "\n",
    "    def forward(self, x):\n",
    "        x = self.conv1(x)\n",
    "        x = F.relu(x)\n",
    "        x = F.max_pool2d(x, (1, 3))\n",
    "        x = self.dropout2(x)\n",
    "\n",
    "        x = self.conv2(x)\n",
    "        x = F.relu(x)\n",
    "        x = F.max_pool2d(x, (1, 3))\n",
    "        x = self.dropout2(x)\n",
    "\n",
    "        x = self.conv3(x)\n",
    "        x = F.relu(x)\n",
    "        x = F.max_pool2d(x, (1, x.shape[-1]))\n",
    "        x = self.dropout2(x)\n",
    "\n",
    "        x = torch.flatten(x, 1)\n",
    "\n",
    "        x = F.relu(self.fc1(x))\n",
    "        x = self.dropout1(x)\n",
    "        x = F.relu(self.fc2(x))\n",
    "        x = self.dropout1(x)\n",
    "        output = F.softplus(self.fc3(x))\n",
    "        return output"
   ]
  },
  {
   "cell_type": "markdown",
   "id": "2e5c0504-7b03-4984-bae1-0dca8119c668",
   "metadata": {},
   "source": [
    "Here we will also define our loss function. A typical loss function for regression is the mean squared error (MSE). However, MSE doesn't allow for the prediction of uncertainties. Alternative loss functions that allow the prediction of uncertainties include the Laplacian and Gaussian Negative Log-Likelihoods (NLL). Gaussian NLL is analogous to MSE, while Laplacian NLL is analogous to median absolute error, which is less biased by outliers and more accurately predicts values near the edges of the training distribution. For these reasons, we will use the Laplacian NLL, which has the form\n",
    "\n",
    "$L = \\frac{1}{2b} \\exp(\\frac{-|x - \\mu|}{b})$,\n",
    "\n",
    "where $\\mu$ is the mean, and $b$ is related to the variance $\\sigma^2$ by $\\sigma^2 = 2 b^2$.\n",
    "\n",
    "The negative log-likelihood is then\n",
    "\n",
    "$-\\log L = \\frac{|x - \\mu|}{b} + \\ln(2b)$.\n",
    "\n",
    "You may find that other loss functions work better for your use case. We recommend trying several."
   ]
  },
  {
   "cell_type": "code",
   "execution_count": 8,
   "id": "d4cf8b3f-1fb6-44f2-b07b-d7a5596eec1c",
   "metadata": {
    "execution": {
     "iopub.execute_input": "2025-08-26T15:56:03.325046Z",
     "iopub.status.busy": "2025-08-26T15:56:03.324873Z",
     "iopub.status.idle": "2025-08-26T15:56:03.329057Z",
     "shell.execute_reply": "2025-08-26T15:56:03.328552Z"
    }
   },
   "outputs": [],
   "source": [
    "def laplacian_nll(y_pred, y_true, k=1):\n",
    "    \"\"\"\n",
    "    Compute Negative Log Likelihood for Laplacian Output Layer. This loss function\n",
    "    lets the CNN predict a value with a related uncertainty.\n",
    "\n",
    "    Args:\n",
    "        y_pred: Nx2k matrix of parameters. Each row parametrizes\n",
    "                k Laplacian distributions, each with (mean, std).\n",
    "        y_true: Nxk matrix of (data) target values.\n",
    "    \"\"\"\n",
    "    means = y_pred[:, :k]\n",
    "    sigmas = y_pred[:, k:]\n",
    "\n",
    "    # convert from sigma to b\n",
    "    b = sigmas / np.sqrt(2) \n",
    "\n",
    "    # compute NLL\n",
    "    nll = torch.abs(means - y_true)/b + torch.log(2*b)\n",
    "    return nll\n",
    "\n",
    "def gaussian_nll(y_pred, y_true, k=1):\n",
    "    \"\"\"\n",
    "    Compute Negative Log Likelihood for Gaussian Output Layer. This loss function\n",
    "    lets the CNN predict a value with a related uncertainty.\n",
    "\n",
    "    Args:\n",
    "        y_pred: Nx2k matrix of parameters. Each row parametrizes\n",
    "                k Laplacian distributions, each with (mean, std).\n",
    "        y_true: Nxk matrix of (data) target values.\n",
    "    \"\"\"\n",
    "    means = y_pred[:, :k]\n",
    "    sigmas = y_pred[:, k:] \n",
    "\n",
    "    # compute NLL\n",
    "    nll = ((means - y_true)/sigmas)**2 + torch.log(2*np.pi*sigmas)\n",
    "    return nll/2\n",
    "\n",
    "# Set the chosen loss function here\n",
    "loss_function = laplacian_nll"
   ]
  },
  {
   "attachments": {},
   "cell_type": "markdown",
   "id": "48006ccb",
   "metadata": {},
   "source": [
    "## 3. Define training, validation, and evaluation functions\n",
    "\n",
    "We train the CNN using the Adam optimizer, which uses adaptive learning rates (LR) to train the network. To vary the LR, we use a plateau scheduler (`ReduceLROnPlateau`), which reduces the LR when the loss plateaus. This enables the CNN parameters to find local minima more easily, rather than take large steps over them.\n",
    "\n",
    "Finally, we will also use an early stopping criterion. This means that if the validation loss plateaus or increases for a certain number of epochs, training stops early, and the best fit CNN values are saved."
   ]
  },
  {
   "cell_type": "code",
   "execution_count": 9,
   "id": "034d9728",
   "metadata": {
    "execution": {
     "iopub.execute_input": "2025-08-26T15:56:03.330824Z",
     "iopub.status.busy": "2025-08-26T15:56:03.330641Z",
     "iopub.status.idle": "2025-08-26T15:56:03.340679Z",
     "shell.execute_reply": "2025-08-26T15:56:03.340160Z"
    }
   },
   "outputs": [],
   "source": [
    "def train(model, train_loader, valid_loader, num_epochs=100, early_stopping_patience=10, device=torch.device(\"cpu\")):\n",
    "    \"\"\"Train the neural network for all desired epochs.\n",
    "    \"\"\"\n",
    "    optimizer = optim.Adam(model.parameters(), lr=5e-5)\n",
    "    # Set learning rate scheduler\n",
    "    scheduler = optim.lr_scheduler.ReduceLROnPlateau(optimizer, factor=0.7, patience=3)\n",
    "\n",
    "    # Set up training loop\n",
    "    train_p_loss = []\n",
    "    val_p_loss = []\n",
    "    min_loss = 100\n",
    "    early_stopping_count = 0\n",
    "    best_epoch = 0\n",
    "\n",
    "    for epoch in range(1, num_epochs + 1):\n",
    "        # Compute a single epoch of training\n",
    "        p_loss = train_epoch(model, train_loader, optimizer, epoch, device=device)\n",
    "        train_p_loss.append(p_loss)\n",
    "        p_loss = evaluate(model, valid_loader)\n",
    "        val_p_loss.append(p_loss)\n",
    "        total_loss = p_loss\n",
    "        scheduler.step(total_loss)  # step learning rate scheduler\n",
    "\n",
    "        # if new fit is better than the previous best fit, update best fit weights\n",
    "        if total_loss < min_loss:\n",
    "            min_loss = total_loss\n",
    "            early_stopping_count = 0\n",
    "            best_epoch = epoch\n",
    "            best_weights = deepcopy(model.state_dict())\n",
    "        # otherwise, if loss is not getting better, count down to stopping criterion\n",
    "        else:\n",
    "            early_stopping_count += 1\n",
    "            print(f\"Early Stopping Count: {early_stopping_count}\")\n",
    "            if early_stopping_count == early_stopping_patience:\n",
    "                print(f\"Early Stopping. Best Epoch: {best_epoch} with loss {min_loss:.4f}.\")\n",
    "                with open(\"best_epoch.txt\", \"w\") as f:\n",
    "                    print(best_epoch, file=f)\n",
    "                break    \n",
    "\n",
    "    # save and return the best fit weights\n",
    "    torch.save(best_weights, f\"model.pt\")\n",
    "    return best_weights, train_p_loss, val_p_loss\n",
    "\n",
    "\n",
    "def train_epoch(model, train_loader, optimizer, epoch, device=torch.device(\"cpu\")):\n",
    "    \"\"\"Train the network for a single epoch.\n",
    "    \"\"\"\n",
    "    model.train()  # Set the model to training mode\n",
    "    period_losses = []\n",
    "    # iterate over data batches\n",
    "    for batch_idx, (data, target) in enumerate(train_loader):\n",
    "        data, target = data.to(device, dtype=torch.float), target.to(device, dtype=torch.float)\n",
    "        optimizer.zero_grad()  # Clear the gradient\n",
    "        output = model(data)  # Make predictions\n",
    "        loss = loss_function(output, target).mean()\n",
    "        loss.backward()  # Gradient computation        \n",
    "        optimizer.step()  # Perform a single optimization step\n",
    "        period_losses.append(loss.item())\n",
    "\n",
    "        # print progress every few batches\n",
    "        if (batch_idx*len(data)) % 500 == 0:\n",
    "            print(\"Epoch: {:3d} [{:5d}/{:5d} ({:3.0f}%)] Training Loss: {:9.6f}\".format(\n",
    "                epoch, batch_idx * len(data), len(train_loader.dataset),\n",
    "                100. * batch_idx / len(train_loader), period_losses[-1]))\n",
    "            \n",
    "    # return the mean loss value\n",
    "    return np.mean(period_losses)\n",
    "\n",
    "\n",
    "def evaluate(model, test_loader, verbose=True, device=torch.device(\"cpu\"), return_predictions=False):\n",
    "    \"\"\"\n",
    "    Evaluate network on validation or test data and compute loss.\n",
    "    This is like \"train\" except the weights are not updated.\n",
    "    \"\"\"\n",
    "    model.eval()  # Set the model to inference mode\n",
    "    test_p_loss = 0\n",
    "    targets = []\n",
    "    preds = []\n",
    "    with torch.no_grad():  # For the inference step, gradient is not computed\n",
    "        for data, target in test_loader:\n",
    "            data, target = data.to(device, dtype=torch.float), target.to(device, dtype=torch.float)\n",
    "            output = model(data)\n",
    "            targets.extend(target.cpu().numpy())\n",
    "            preds.extend(output.cpu().numpy())\n",
    "            test_p_loss += loss_function(output, target).sum()\n",
    "            \n",
    "    test_p_loss /= len(test_loader.dataset)\n",
    "\n",
    "    if verbose:\n",
    "        print(f\"Test loss: {test_p_loss:.4f}\")\n",
    "    if return_predictions:\n",
    "        return test_p_loss, np.squeeze(preds), np.squeeze(targets)\n",
    "    return test_p_loss"
   ]
  },
  {
   "attachments": {},
   "cell_type": "markdown",
   "id": "a59eb327",
   "metadata": {},
   "source": [
    "## 4. Train the CNN on SMARTS data"
   ]
  },
  {
   "cell_type": "code",
   "execution_count": 10,
   "id": "26c27331-b0e0-4286-8de1-d98693ea357b",
   "metadata": {
    "execution": {
     "iopub.execute_input": "2025-08-26T15:56:03.342501Z",
     "iopub.status.busy": "2025-08-26T15:56:03.342300Z",
     "iopub.status.idle": "2025-08-26T15:57:40.971717Z",
     "shell.execute_reply": "2025-08-26T15:57:40.971074Z"
    },
    "scrolled": true
   },
   "outputs": [
    {
     "name": "stdout",
     "output_type": "stream",
     "text": [
      "Epoch:   1 [    0/ 8000 (  0%)] Training Loss:  0.575162\n"
     ]
    },
    {
     "name": "stdout",
     "output_type": "stream",
     "text": [
      "Epoch:   1 [  500/ 8000 (  6%)] Training Loss:  0.610845\n"
     ]
    },
    {
     "name": "stdout",
     "output_type": "stream",
     "text": [
      "Epoch:   1 [ 1000/ 8000 ( 12%)] Training Loss:  0.444789\n"
     ]
    },
    {
     "name": "stdout",
     "output_type": "stream",
     "text": [
      "Epoch:   1 [ 1500/ 8000 ( 19%)] Training Loss:  0.438787\n"
     ]
    },
    {
     "name": "stdout",
     "output_type": "stream",
     "text": [
      "Epoch:   1 [ 2000/ 8000 ( 25%)] Training Loss:  0.445467\n"
     ]
    },
    {
     "name": "stdout",
     "output_type": "stream",
     "text": [
      "Epoch:   1 [ 2500/ 8000 ( 31%)] Training Loss:  0.331284\n"
     ]
    },
    {
     "name": "stdout",
     "output_type": "stream",
     "text": [
      "Epoch:   1 [ 3000/ 8000 ( 38%)] Training Loss:  0.381290\n"
     ]
    },
    {
     "name": "stdout",
     "output_type": "stream",
     "text": [
      "Epoch:   1 [ 3500/ 8000 ( 44%)] Training Loss:  0.339752\n"
     ]
    },
    {
     "name": "stdout",
     "output_type": "stream",
     "text": [
      "Epoch:   1 [ 4000/ 8000 ( 50%)] Training Loss:  0.182749\n"
     ]
    },
    {
     "name": "stdout",
     "output_type": "stream",
     "text": [
      "Epoch:   1 [ 4500/ 8000 ( 56%)] Training Loss:  0.371045\n"
     ]
    },
    {
     "name": "stdout",
     "output_type": "stream",
     "text": [
      "Epoch:   1 [ 5000/ 8000 ( 62%)] Training Loss:  0.353536\n"
     ]
    },
    {
     "name": "stdout",
     "output_type": "stream",
     "text": [
      "Epoch:   1 [ 5500/ 8000 ( 69%)] Training Loss:  0.345336\n"
     ]
    },
    {
     "name": "stdout",
     "output_type": "stream",
     "text": [
      "Epoch:   1 [ 6000/ 8000 ( 75%)] Training Loss:  0.232175\n"
     ]
    },
    {
     "name": "stdout",
     "output_type": "stream",
     "text": [
      "Epoch:   1 [ 6500/ 8000 ( 81%)] Training Loss:  0.366428\n"
     ]
    },
    {
     "name": "stdout",
     "output_type": "stream",
     "text": [
      "Epoch:   1 [ 7000/ 8000 ( 88%)] Training Loss:  0.284384\n"
     ]
    },
    {
     "name": "stdout",
     "output_type": "stream",
     "text": [
      "Epoch:   1 [ 7500/ 8000 ( 94%)] Training Loss:  0.492535\n"
     ]
    },
    {
     "name": "stdout",
     "output_type": "stream",
     "text": [
      "Test loss: 0.3045\n",
      "Epoch:   2 [    0/ 8000 (  0%)] Training Loss:  0.296180\n"
     ]
    },
    {
     "name": "stdout",
     "output_type": "stream",
     "text": [
      "Epoch:   2 [  500/ 8000 (  6%)] Training Loss:  0.475287\n"
     ]
    },
    {
     "name": "stdout",
     "output_type": "stream",
     "text": [
      "Epoch:   2 [ 1000/ 8000 ( 12%)] Training Loss:  0.272705\n"
     ]
    },
    {
     "name": "stdout",
     "output_type": "stream",
     "text": [
      "Epoch:   2 [ 1500/ 8000 ( 19%)] Training Loss:  0.258431\n"
     ]
    },
    {
     "name": "stdout",
     "output_type": "stream",
     "text": [
      "Epoch:   2 [ 2000/ 8000 ( 25%)] Training Loss:  0.378992\n"
     ]
    },
    {
     "name": "stdout",
     "output_type": "stream",
     "text": [
      "Epoch:   2 [ 2500/ 8000 ( 31%)] Training Loss:  0.208311\n"
     ]
    },
    {
     "name": "stdout",
     "output_type": "stream",
     "text": [
      "Epoch:   2 [ 3000/ 8000 ( 38%)] Training Loss:  0.322407\n"
     ]
    },
    {
     "name": "stdout",
     "output_type": "stream",
     "text": [
      "Epoch:   2 [ 3500/ 8000 ( 44%)] Training Loss:  0.342891\n"
     ]
    },
    {
     "name": "stdout",
     "output_type": "stream",
     "text": [
      "Epoch:   2 [ 4000/ 8000 ( 50%)] Training Loss:  0.210131\n"
     ]
    },
    {
     "name": "stdout",
     "output_type": "stream",
     "text": [
      "Epoch:   2 [ 4500/ 8000 ( 56%)] Training Loss:  0.364870\n"
     ]
    },
    {
     "name": "stdout",
     "output_type": "stream",
     "text": [
      "Epoch:   2 [ 5000/ 8000 ( 62%)] Training Loss:  0.311264\n"
     ]
    },
    {
     "name": "stdout",
     "output_type": "stream",
     "text": [
      "Epoch:   2 [ 5500/ 8000 ( 69%)] Training Loss:  0.309026\n"
     ]
    },
    {
     "name": "stdout",
     "output_type": "stream",
     "text": [
      "Epoch:   2 [ 6000/ 8000 ( 75%)] Training Loss:  0.200377\n"
     ]
    },
    {
     "name": "stdout",
     "output_type": "stream",
     "text": [
      "Epoch:   2 [ 6500/ 8000 ( 81%)] Training Loss:  0.325533\n"
     ]
    },
    {
     "name": "stdout",
     "output_type": "stream",
     "text": [
      "Epoch:   2 [ 7000/ 8000 ( 88%)] Training Loss:  0.286022\n"
     ]
    },
    {
     "name": "stdout",
     "output_type": "stream",
     "text": [
      "Epoch:   2 [ 7500/ 8000 ( 94%)] Training Loss:  0.442966\n"
     ]
    },
    {
     "name": "stdout",
     "output_type": "stream",
     "text": [
      "Test loss: 0.2618\n",
      "Epoch:   3 [    0/ 8000 (  0%)] Training Loss:  0.262717\n"
     ]
    },
    {
     "name": "stdout",
     "output_type": "stream",
     "text": [
      "Epoch:   3 [  500/ 8000 (  6%)] Training Loss:  0.406286\n"
     ]
    },
    {
     "name": "stdout",
     "output_type": "stream",
     "text": [
      "Epoch:   3 [ 1000/ 8000 ( 12%)] Training Loss:  0.233385\n"
     ]
    },
    {
     "name": "stdout",
     "output_type": "stream",
     "text": [
      "Epoch:   3 [ 1500/ 8000 ( 19%)] Training Loss:  0.192313\n"
     ]
    },
    {
     "name": "stdout",
     "output_type": "stream",
     "text": [
      "Epoch:   3 [ 2000/ 8000 ( 25%)] Training Loss:  0.341165\n"
     ]
    },
    {
     "name": "stdout",
     "output_type": "stream",
     "text": [
      "Epoch:   3 [ 2500/ 8000 ( 31%)] Training Loss:  0.140508\n"
     ]
    },
    {
     "name": "stdout",
     "output_type": "stream",
     "text": [
      "Epoch:   3 [ 3000/ 8000 ( 38%)] Training Loss:  0.297368\n"
     ]
    },
    {
     "name": "stdout",
     "output_type": "stream",
     "text": [
      "Epoch:   3 [ 3500/ 8000 ( 44%)] Training Loss:  0.227784\n"
     ]
    },
    {
     "name": "stdout",
     "output_type": "stream",
     "text": [
      "Epoch:   3 [ 4000/ 8000 ( 50%)] Training Loss:  0.118470\n"
     ]
    },
    {
     "name": "stdout",
     "output_type": "stream",
     "text": [
      "Epoch:   3 [ 4500/ 8000 ( 56%)] Training Loss:  0.333037\n"
     ]
    },
    {
     "name": "stdout",
     "output_type": "stream",
     "text": [
      "Epoch:   3 [ 5000/ 8000 ( 62%)] Training Loss:  0.290194\n"
     ]
    },
    {
     "name": "stdout",
     "output_type": "stream",
     "text": [
      "Epoch:   3 [ 5500/ 8000 ( 69%)] Training Loss:  0.271156\n"
     ]
    },
    {
     "name": "stdout",
     "output_type": "stream",
     "text": [
      "Epoch:   3 [ 6000/ 8000 ( 75%)] Training Loss:  0.082075\n"
     ]
    },
    {
     "name": "stdout",
     "output_type": "stream",
     "text": [
      "Epoch:   3 [ 6500/ 8000 ( 81%)] Training Loss:  0.270208\n"
     ]
    },
    {
     "name": "stdout",
     "output_type": "stream",
     "text": [
      "Epoch:   3 [ 7000/ 8000 ( 88%)] Training Loss:  0.225345\n"
     ]
    },
    {
     "name": "stdout",
     "output_type": "stream",
     "text": [
      "Epoch:   3 [ 7500/ 8000 ( 94%)] Training Loss:  0.344451\n"
     ]
    },
    {
     "name": "stdout",
     "output_type": "stream",
     "text": [
      "Test loss: 0.2340\n",
      "Epoch:   4 [    0/ 8000 (  0%)] Training Loss:  0.256205\n"
     ]
    },
    {
     "name": "stdout",
     "output_type": "stream",
     "text": [
      "Epoch:   4 [  500/ 8000 (  6%)] Training Loss:  0.364359\n"
     ]
    },
    {
     "name": "stdout",
     "output_type": "stream",
     "text": [
      "Epoch:   4 [ 1000/ 8000 ( 12%)] Training Loss:  0.295996\n"
     ]
    },
    {
     "name": "stdout",
     "output_type": "stream",
     "text": [
      "Epoch:   4 [ 1500/ 8000 ( 19%)] Training Loss:  0.120267\n"
     ]
    },
    {
     "name": "stdout",
     "output_type": "stream",
     "text": [
      "Epoch:   4 [ 2000/ 8000 ( 25%)] Training Loss:  0.334042\n"
     ]
    },
    {
     "name": "stdout",
     "output_type": "stream",
     "text": [
      "Epoch:   4 [ 2500/ 8000 ( 31%)] Training Loss:  0.173124\n"
     ]
    },
    {
     "name": "stdout",
     "output_type": "stream",
     "text": [
      "Epoch:   4 [ 3000/ 8000 ( 38%)] Training Loss:  0.248428\n"
     ]
    },
    {
     "name": "stdout",
     "output_type": "stream",
     "text": [
      "Epoch:   4 [ 3500/ 8000 ( 44%)] Training Loss:  0.194836\n"
     ]
    },
    {
     "name": "stdout",
     "output_type": "stream",
     "text": [
      "Epoch:   4 [ 4000/ 8000 ( 50%)] Training Loss:  0.108231\n"
     ]
    },
    {
     "name": "stdout",
     "output_type": "stream",
     "text": [
      "Epoch:   4 [ 4500/ 8000 ( 56%)] Training Loss:  0.266289\n"
     ]
    },
    {
     "name": "stdout",
     "output_type": "stream",
     "text": [
      "Epoch:   4 [ 5000/ 8000 ( 62%)] Training Loss:  0.287311\n"
     ]
    },
    {
     "name": "stdout",
     "output_type": "stream",
     "text": [
      "Epoch:   4 [ 5500/ 8000 ( 69%)] Training Loss:  0.249780\n"
     ]
    },
    {
     "name": "stdout",
     "output_type": "stream",
     "text": [
      "Epoch:   4 [ 6000/ 8000 ( 75%)] Training Loss:  0.114030\n"
     ]
    },
    {
     "name": "stdout",
     "output_type": "stream",
     "text": [
      "Epoch:   4 [ 6500/ 8000 ( 81%)] Training Loss:  0.301799\n"
     ]
    },
    {
     "name": "stdout",
     "output_type": "stream",
     "text": [
      "Epoch:   4 [ 7000/ 8000 ( 88%)] Training Loss:  0.326320\n"
     ]
    },
    {
     "name": "stdout",
     "output_type": "stream",
     "text": [
      "Epoch:   4 [ 7500/ 8000 ( 94%)] Training Loss:  0.388101\n"
     ]
    },
    {
     "name": "stdout",
     "output_type": "stream",
     "text": [
      "Test loss: 0.2333\n",
      "Epoch:   5 [    0/ 8000 (  0%)] Training Loss:  0.337691\n"
     ]
    },
    {
     "name": "stdout",
     "output_type": "stream",
     "text": [
      "Epoch:   5 [  500/ 8000 (  6%)] Training Loss:  0.407707\n"
     ]
    },
    {
     "name": "stdout",
     "output_type": "stream",
     "text": [
      "Epoch:   5 [ 1000/ 8000 ( 12%)] Training Loss:  0.257284\n"
     ]
    },
    {
     "name": "stdout",
     "output_type": "stream",
     "text": [
      "Epoch:   5 [ 1500/ 8000 ( 19%)] Training Loss:  0.170404\n"
     ]
    },
    {
     "name": "stdout",
     "output_type": "stream",
     "text": [
      "Epoch:   5 [ 2000/ 8000 ( 25%)] Training Loss:  0.310470\n"
     ]
    },
    {
     "name": "stdout",
     "output_type": "stream",
     "text": [
      "Epoch:   5 [ 2500/ 8000 ( 31%)] Training Loss:  0.141226\n"
     ]
    },
    {
     "name": "stdout",
     "output_type": "stream",
     "text": [
      "Epoch:   5 [ 3000/ 8000 ( 38%)] Training Loss:  0.292000\n"
     ]
    },
    {
     "name": "stdout",
     "output_type": "stream",
     "text": [
      "Epoch:   5 [ 3500/ 8000 ( 44%)] Training Loss:  0.241041\n"
     ]
    },
    {
     "name": "stdout",
     "output_type": "stream",
     "text": [
      "Epoch:   5 [ 4000/ 8000 ( 50%)] Training Loss:  0.113812\n"
     ]
    },
    {
     "name": "stdout",
     "output_type": "stream",
     "text": [
      "Epoch:   5 [ 4500/ 8000 ( 56%)] Training Loss:  0.301326\n"
     ]
    },
    {
     "name": "stdout",
     "output_type": "stream",
     "text": [
      "Epoch:   5 [ 5000/ 8000 ( 62%)] Training Loss:  0.303455\n"
     ]
    },
    {
     "name": "stdout",
     "output_type": "stream",
     "text": [
      "Epoch:   5 [ 5500/ 8000 ( 69%)] Training Loss:  0.275898\n"
     ]
    },
    {
     "name": "stdout",
     "output_type": "stream",
     "text": [
      "Epoch:   5 [ 6000/ 8000 ( 75%)] Training Loss:  0.061796\n"
     ]
    },
    {
     "name": "stdout",
     "output_type": "stream",
     "text": [
      "Epoch:   5 [ 6500/ 8000 ( 81%)] Training Loss:  0.254562\n"
     ]
    },
    {
     "name": "stdout",
     "output_type": "stream",
     "text": [
      "Epoch:   5 [ 7000/ 8000 ( 88%)] Training Loss:  0.298238\n"
     ]
    },
    {
     "name": "stdout",
     "output_type": "stream",
     "text": [
      "Epoch:   5 [ 7500/ 8000 ( 94%)] Training Loss:  0.362178\n"
     ]
    },
    {
     "name": "stdout",
     "output_type": "stream",
     "text": [
      "Test loss: 0.2272\n",
      "Epoch:   6 [    0/ 8000 (  0%)] Training Loss:  0.254310\n"
     ]
    },
    {
     "name": "stdout",
     "output_type": "stream",
     "text": [
      "Epoch:   6 [  500/ 8000 (  6%)] Training Loss:  0.322689\n"
     ]
    },
    {
     "name": "stdout",
     "output_type": "stream",
     "text": [
      "Epoch:   6 [ 1000/ 8000 ( 12%)] Training Loss:  0.234108\n"
     ]
    },
    {
     "name": "stdout",
     "output_type": "stream",
     "text": [
      "Epoch:   6 [ 1500/ 8000 ( 19%)] Training Loss:  0.153513\n"
     ]
    },
    {
     "name": "stdout",
     "output_type": "stream",
     "text": [
      "Epoch:   6 [ 2000/ 8000 ( 25%)] Training Loss:  0.338179\n"
     ]
    },
    {
     "name": "stdout",
     "output_type": "stream",
     "text": [
      "Epoch:   6 [ 2500/ 8000 ( 31%)] Training Loss:  0.162006\n"
     ]
    },
    {
     "name": "stdout",
     "output_type": "stream",
     "text": [
      "Epoch:   6 [ 3000/ 8000 ( 38%)] Training Loss:  0.292955\n"
     ]
    },
    {
     "name": "stdout",
     "output_type": "stream",
     "text": [
      "Epoch:   6 [ 3500/ 8000 ( 44%)] Training Loss:  0.220800\n"
     ]
    },
    {
     "name": "stdout",
     "output_type": "stream",
     "text": [
      "Epoch:   6 [ 4000/ 8000 ( 50%)] Training Loss:  0.143798\n"
     ]
    },
    {
     "name": "stdout",
     "output_type": "stream",
     "text": [
      "Epoch:   6 [ 4500/ 8000 ( 56%)] Training Loss:  0.279670\n"
     ]
    },
    {
     "name": "stdout",
     "output_type": "stream",
     "text": [
      "Epoch:   6 [ 5000/ 8000 ( 62%)] Training Loss:  0.265485\n"
     ]
    },
    {
     "name": "stdout",
     "output_type": "stream",
     "text": [
      "Epoch:   6 [ 5500/ 8000 ( 69%)] Training Loss:  0.299336\n"
     ]
    },
    {
     "name": "stdout",
     "output_type": "stream",
     "text": [
      "Epoch:   6 [ 6000/ 8000 ( 75%)] Training Loss:  0.132134\n"
     ]
    },
    {
     "name": "stdout",
     "output_type": "stream",
     "text": [
      "Epoch:   6 [ 6500/ 8000 ( 81%)] Training Loss:  0.273439\n"
     ]
    },
    {
     "name": "stdout",
     "output_type": "stream",
     "text": [
      "Epoch:   6 [ 7000/ 8000 ( 88%)] Training Loss:  0.279075\n"
     ]
    },
    {
     "name": "stdout",
     "output_type": "stream",
     "text": [
      "Epoch:   6 [ 7500/ 8000 ( 94%)] Training Loss:  0.332744\n"
     ]
    },
    {
     "name": "stdout",
     "output_type": "stream",
     "text": [
      "Test loss: 0.2222\n",
      "Epoch:   7 [    0/ 8000 (  0%)] Training Loss:  0.250884\n"
     ]
    },
    {
     "name": "stdout",
     "output_type": "stream",
     "text": [
      "Epoch:   7 [  500/ 8000 (  6%)] Training Loss:  0.374180\n"
     ]
    },
    {
     "name": "stdout",
     "output_type": "stream",
     "text": [
      "Epoch:   7 [ 1000/ 8000 ( 12%)] Training Loss:  0.238376\n"
     ]
    },
    {
     "name": "stdout",
     "output_type": "stream",
     "text": [
      "Epoch:   7 [ 1500/ 8000 ( 19%)] Training Loss:  0.135620\n"
     ]
    },
    {
     "name": "stdout",
     "output_type": "stream",
     "text": [
      "Epoch:   7 [ 2000/ 8000 ( 25%)] Training Loss:  0.341522\n"
     ]
    },
    {
     "name": "stdout",
     "output_type": "stream",
     "text": [
      "Epoch:   7 [ 2500/ 8000 ( 31%)] Training Loss:  0.148944\n"
     ]
    },
    {
     "name": "stdout",
     "output_type": "stream",
     "text": [
      "Epoch:   7 [ 3000/ 8000 ( 38%)] Training Loss:  0.313608\n"
     ]
    },
    {
     "name": "stdout",
     "output_type": "stream",
     "text": [
      "Epoch:   7 [ 3500/ 8000 ( 44%)] Training Loss:  0.176567\n"
     ]
    },
    {
     "name": "stdout",
     "output_type": "stream",
     "text": [
      "Epoch:   7 [ 4000/ 8000 ( 50%)] Training Loss:  0.061224\n"
     ]
    },
    {
     "name": "stdout",
     "output_type": "stream",
     "text": [
      "Epoch:   7 [ 4500/ 8000 ( 56%)] Training Loss:  0.252087\n"
     ]
    },
    {
     "name": "stdout",
     "output_type": "stream",
     "text": [
      "Epoch:   7 [ 5000/ 8000 ( 62%)] Training Loss:  0.311205\n"
     ]
    },
    {
     "name": "stdout",
     "output_type": "stream",
     "text": [
      "Epoch:   7 [ 5500/ 8000 ( 69%)] Training Loss:  0.315710\n"
     ]
    },
    {
     "name": "stdout",
     "output_type": "stream",
     "text": [
      "Epoch:   7 [ 6000/ 8000 ( 75%)] Training Loss:  0.145026\n"
     ]
    },
    {
     "name": "stdout",
     "output_type": "stream",
     "text": [
      "Epoch:   7 [ 6500/ 8000 ( 81%)] Training Loss:  0.289482\n"
     ]
    },
    {
     "name": "stdout",
     "output_type": "stream",
     "text": [
      "Epoch:   7 [ 7000/ 8000 ( 88%)] Training Loss:  0.231719\n"
     ]
    },
    {
     "name": "stdout",
     "output_type": "stream",
     "text": [
      "Epoch:   7 [ 7500/ 8000 ( 94%)] Training Loss:  0.327896\n"
     ]
    },
    {
     "name": "stdout",
     "output_type": "stream",
     "text": [
      "Test loss: 0.2167\n",
      "Epoch:   8 [    0/ 8000 (  0%)] Training Loss:  0.271672\n"
     ]
    },
    {
     "name": "stdout",
     "output_type": "stream",
     "text": [
      "Epoch:   8 [  500/ 8000 (  6%)] Training Loss:  0.407888\n"
     ]
    },
    {
     "name": "stdout",
     "output_type": "stream",
     "text": [
      "Epoch:   8 [ 1000/ 8000 ( 12%)] Training Loss:  0.212384\n"
     ]
    },
    {
     "name": "stdout",
     "output_type": "stream",
     "text": [
      "Epoch:   8 [ 1500/ 8000 ( 19%)] Training Loss:  0.149499\n"
     ]
    },
    {
     "name": "stdout",
     "output_type": "stream",
     "text": [
      "Epoch:   8 [ 2000/ 8000 ( 25%)] Training Loss:  0.286266\n"
     ]
    },
    {
     "name": "stdout",
     "output_type": "stream",
     "text": [
      "Epoch:   8 [ 2500/ 8000 ( 31%)] Training Loss:  0.172137\n"
     ]
    },
    {
     "name": "stdout",
     "output_type": "stream",
     "text": [
      "Epoch:   8 [ 3000/ 8000 ( 38%)] Training Loss:  0.313013\n"
     ]
    },
    {
     "name": "stdout",
     "output_type": "stream",
     "text": [
      "Epoch:   8 [ 3500/ 8000 ( 44%)] Training Loss:  0.244127\n"
     ]
    },
    {
     "name": "stdout",
     "output_type": "stream",
     "text": [
      "Epoch:   8 [ 4000/ 8000 ( 50%)] Training Loss:  0.124600\n"
     ]
    },
    {
     "name": "stdout",
     "output_type": "stream",
     "text": [
      "Epoch:   8 [ 4500/ 8000 ( 56%)] Training Loss:  0.258178\n"
     ]
    },
    {
     "name": "stdout",
     "output_type": "stream",
     "text": [
      "Epoch:   8 [ 5000/ 8000 ( 62%)] Training Loss:  0.303822\n"
     ]
    },
    {
     "name": "stdout",
     "output_type": "stream",
     "text": [
      "Epoch:   8 [ 5500/ 8000 ( 69%)] Training Loss:  0.312904\n"
     ]
    },
    {
     "name": "stdout",
     "output_type": "stream",
     "text": [
      "Epoch:   8 [ 6000/ 8000 ( 75%)] Training Loss:  0.085169\n"
     ]
    },
    {
     "name": "stdout",
     "output_type": "stream",
     "text": [
      "Epoch:   8 [ 6500/ 8000 ( 81%)] Training Loss:  0.264361\n"
     ]
    },
    {
     "name": "stdout",
     "output_type": "stream",
     "text": [
      "Epoch:   8 [ 7000/ 8000 ( 88%)] Training Loss:  0.249699\n"
     ]
    },
    {
     "name": "stdout",
     "output_type": "stream",
     "text": [
      "Epoch:   8 [ 7500/ 8000 ( 94%)] Training Loss:  0.362730\n"
     ]
    },
    {
     "name": "stdout",
     "output_type": "stream",
     "text": [
      "Test loss: 0.2181\n",
      "Early Stopping Count: 1\n",
      "Epoch:   9 [    0/ 8000 (  0%)] Training Loss:  0.262929\n"
     ]
    },
    {
     "name": "stdout",
     "output_type": "stream",
     "text": [
      "Epoch:   9 [  500/ 8000 (  6%)] Training Loss:  0.368385\n"
     ]
    },
    {
     "name": "stdout",
     "output_type": "stream",
     "text": [
      "Epoch:   9 [ 1000/ 8000 ( 12%)] Training Loss:  0.223393\n"
     ]
    },
    {
     "name": "stdout",
     "output_type": "stream",
     "text": [
      "Epoch:   9 [ 1500/ 8000 ( 19%)] Training Loss:  0.103982\n"
     ]
    },
    {
     "name": "stdout",
     "output_type": "stream",
     "text": [
      "Epoch:   9 [ 2000/ 8000 ( 25%)] Training Loss:  0.336602\n"
     ]
    },
    {
     "name": "stdout",
     "output_type": "stream",
     "text": [
      "Epoch:   9 [ 2500/ 8000 ( 31%)] Training Loss:  0.136145\n"
     ]
    },
    {
     "name": "stdout",
     "output_type": "stream",
     "text": [
      "Epoch:   9 [ 3000/ 8000 ( 38%)] Training Loss:  0.299505\n"
     ]
    },
    {
     "name": "stdout",
     "output_type": "stream",
     "text": [
      "Epoch:   9 [ 3500/ 8000 ( 44%)] Training Loss:  0.237103\n"
     ]
    },
    {
     "name": "stdout",
     "output_type": "stream",
     "text": [
      "Epoch:   9 [ 4000/ 8000 ( 50%)] Training Loss:  0.119137\n"
     ]
    },
    {
     "name": "stdout",
     "output_type": "stream",
     "text": [
      "Epoch:   9 [ 4500/ 8000 ( 56%)] Training Loss:  0.243878\n"
     ]
    },
    {
     "name": "stdout",
     "output_type": "stream",
     "text": [
      "Epoch:   9 [ 5000/ 8000 ( 62%)] Training Loss:  0.300902\n"
     ]
    },
    {
     "name": "stdout",
     "output_type": "stream",
     "text": [
      "Epoch:   9 [ 5500/ 8000 ( 69%)] Training Loss:  0.283236\n"
     ]
    },
    {
     "name": "stdout",
     "output_type": "stream",
     "text": [
      "Epoch:   9 [ 6000/ 8000 ( 75%)] Training Loss:  0.142143\n"
     ]
    },
    {
     "name": "stdout",
     "output_type": "stream",
     "text": [
      "Epoch:   9 [ 6500/ 8000 ( 81%)] Training Loss:  0.270774\n"
     ]
    },
    {
     "name": "stdout",
     "output_type": "stream",
     "text": [
      "Epoch:   9 [ 7000/ 8000 ( 88%)] Training Loss:  0.264012\n"
     ]
    },
    {
     "name": "stdout",
     "output_type": "stream",
     "text": [
      "Epoch:   9 [ 7500/ 8000 ( 94%)] Training Loss:  0.333261\n"
     ]
    },
    {
     "name": "stdout",
     "output_type": "stream",
     "text": [
      "Test loss: 0.2070\n",
      "Epoch:  10 [    0/ 8000 (  0%)] Training Loss:  0.225312\n"
     ]
    },
    {
     "name": "stdout",
     "output_type": "stream",
     "text": [
      "Epoch:  10 [  500/ 8000 (  6%)] Training Loss:  0.338756\n"
     ]
    },
    {
     "name": "stdout",
     "output_type": "stream",
     "text": [
      "Epoch:  10 [ 1000/ 8000 ( 12%)] Training Loss:  0.206627\n"
     ]
    },
    {
     "name": "stdout",
     "output_type": "stream",
     "text": [
      "Epoch:  10 [ 1500/ 8000 ( 19%)] Training Loss:  0.179548\n"
     ]
    },
    {
     "name": "stdout",
     "output_type": "stream",
     "text": [
      "Epoch:  10 [ 2000/ 8000 ( 25%)] Training Loss:  0.304030\n"
     ]
    },
    {
     "name": "stdout",
     "output_type": "stream",
     "text": [
      "Epoch:  10 [ 2500/ 8000 ( 31%)] Training Loss:  0.128224\n"
     ]
    },
    {
     "name": "stdout",
     "output_type": "stream",
     "text": [
      "Epoch:  10 [ 3000/ 8000 ( 38%)] Training Loss:  0.369728\n"
     ]
    },
    {
     "name": "stdout",
     "output_type": "stream",
     "text": [
      "Epoch:  10 [ 3500/ 8000 ( 44%)] Training Loss:  0.206604\n"
     ]
    },
    {
     "name": "stdout",
     "output_type": "stream",
     "text": [
      "Epoch:  10 [ 4000/ 8000 ( 50%)] Training Loss:  0.132868\n"
     ]
    },
    {
     "name": "stdout",
     "output_type": "stream",
     "text": [
      "Epoch:  10 [ 4500/ 8000 ( 56%)] Training Loss:  0.292926\n"
     ]
    },
    {
     "name": "stdout",
     "output_type": "stream",
     "text": [
      "Epoch:  10 [ 5000/ 8000 ( 62%)] Training Loss:  0.248278\n"
     ]
    },
    {
     "name": "stdout",
     "output_type": "stream",
     "text": [
      "Epoch:  10 [ 5500/ 8000 ( 69%)] Training Loss:  0.305074\n"
     ]
    },
    {
     "name": "stdout",
     "output_type": "stream",
     "text": [
      "Epoch:  10 [ 6000/ 8000 ( 75%)] Training Loss:  0.061336\n"
     ]
    },
    {
     "name": "stdout",
     "output_type": "stream",
     "text": [
      "Epoch:  10 [ 6500/ 8000 ( 81%)] Training Loss:  0.236473\n"
     ]
    },
    {
     "name": "stdout",
     "output_type": "stream",
     "text": [
      "Epoch:  10 [ 7000/ 8000 ( 88%)] Training Loss:  0.264069\n"
     ]
    },
    {
     "name": "stdout",
     "output_type": "stream",
     "text": [
      "Epoch:  10 [ 7500/ 8000 ( 94%)] Training Loss:  0.325789\n"
     ]
    },
    {
     "name": "stdout",
     "output_type": "stream",
     "text": [
      "Test loss: 0.2012\n",
      "Epoch:  11 [    0/ 8000 (  0%)] Training Loss:  0.286728\n"
     ]
    },
    {
     "name": "stdout",
     "output_type": "stream",
     "text": [
      "Epoch:  11 [  500/ 8000 (  6%)] Training Loss:  0.338227\n"
     ]
    },
    {
     "name": "stdout",
     "output_type": "stream",
     "text": [
      "Epoch:  11 [ 1000/ 8000 ( 12%)] Training Loss:  0.197625\n"
     ]
    },
    {
     "name": "stdout",
     "output_type": "stream",
     "text": [
      "Epoch:  11 [ 1500/ 8000 ( 19%)] Training Loss:  0.114818\n"
     ]
    },
    {
     "name": "stdout",
     "output_type": "stream",
     "text": [
      "Epoch:  11 [ 2000/ 8000 ( 25%)] Training Loss:  0.258796\n"
     ]
    },
    {
     "name": "stdout",
     "output_type": "stream",
     "text": [
      "Epoch:  11 [ 2500/ 8000 ( 31%)] Training Loss:  0.092410\n"
     ]
    },
    {
     "name": "stdout",
     "output_type": "stream",
     "text": [
      "Epoch:  11 [ 3000/ 8000 ( 38%)] Training Loss:  0.344620\n"
     ]
    },
    {
     "name": "stdout",
     "output_type": "stream",
     "text": [
      "Epoch:  11 [ 3500/ 8000 ( 44%)] Training Loss:  0.236683\n"
     ]
    },
    {
     "name": "stdout",
     "output_type": "stream",
     "text": [
      "Epoch:  11 [ 4000/ 8000 ( 50%)] Training Loss:  0.045492\n"
     ]
    },
    {
     "name": "stdout",
     "output_type": "stream",
     "text": [
      "Epoch:  11 [ 4500/ 8000 ( 56%)] Training Loss:  0.298449\n"
     ]
    },
    {
     "name": "stdout",
     "output_type": "stream",
     "text": [
      "Epoch:  11 [ 5000/ 8000 ( 62%)] Training Loss:  0.324902\n"
     ]
    },
    {
     "name": "stdout",
     "output_type": "stream",
     "text": [
      "Epoch:  11 [ 5500/ 8000 ( 69%)] Training Loss:  0.268598\n"
     ]
    },
    {
     "name": "stdout",
     "output_type": "stream",
     "text": [
      "Epoch:  11 [ 6000/ 8000 ( 75%)] Training Loss:  0.055375\n"
     ]
    },
    {
     "name": "stdout",
     "output_type": "stream",
     "text": [
      "Epoch:  11 [ 6500/ 8000 ( 81%)] Training Loss:  0.257181\n"
     ]
    },
    {
     "name": "stdout",
     "output_type": "stream",
     "text": [
      "Epoch:  11 [ 7000/ 8000 ( 88%)] Training Loss:  0.237169\n"
     ]
    },
    {
     "name": "stdout",
     "output_type": "stream",
     "text": [
      "Epoch:  11 [ 7500/ 8000 ( 94%)] Training Loss:  0.282529\n"
     ]
    },
    {
     "name": "stdout",
     "output_type": "stream",
     "text": [
      "Test loss: 0.1945\n",
      "Epoch:  12 [    0/ 8000 (  0%)] Training Loss:  0.241708\n"
     ]
    },
    {
     "name": "stdout",
     "output_type": "stream",
     "text": [
      "Epoch:  12 [  500/ 8000 (  6%)] Training Loss:  0.373011\n"
     ]
    },
    {
     "name": "stdout",
     "output_type": "stream",
     "text": [
      "Epoch:  12 [ 1000/ 8000 ( 12%)] Training Loss:  0.153525\n"
     ]
    },
    {
     "name": "stdout",
     "output_type": "stream",
     "text": [
      "Epoch:  12 [ 1500/ 8000 ( 19%)] Training Loss:  0.079620\n"
     ]
    },
    {
     "name": "stdout",
     "output_type": "stream",
     "text": [
      "Epoch:  12 [ 2000/ 8000 ( 25%)] Training Loss:  0.313065\n"
     ]
    },
    {
     "name": "stdout",
     "output_type": "stream",
     "text": [
      "Epoch:  12 [ 2500/ 8000 ( 31%)] Training Loss:  0.077472\n"
     ]
    },
    {
     "name": "stdout",
     "output_type": "stream",
     "text": [
      "Epoch:  12 [ 3000/ 8000 ( 38%)] Training Loss:  0.322882\n"
     ]
    },
    {
     "name": "stdout",
     "output_type": "stream",
     "text": [
      "Epoch:  12 [ 3500/ 8000 ( 44%)] Training Loss:  0.211778\n"
     ]
    },
    {
     "name": "stdout",
     "output_type": "stream",
     "text": [
      "Epoch:  12 [ 4000/ 8000 ( 50%)] Training Loss:  0.038527\n"
     ]
    },
    {
     "name": "stdout",
     "output_type": "stream",
     "text": [
      "Epoch:  12 [ 4500/ 8000 ( 56%)] Training Loss:  0.264031\n"
     ]
    },
    {
     "name": "stdout",
     "output_type": "stream",
     "text": [
      "Epoch:  12 [ 5000/ 8000 ( 62%)] Training Loss:  0.299187\n"
     ]
    },
    {
     "name": "stdout",
     "output_type": "stream",
     "text": [
      "Epoch:  12 [ 5500/ 8000 ( 69%)] Training Loss:  0.315940\n"
     ]
    },
    {
     "name": "stdout",
     "output_type": "stream",
     "text": [
      "Epoch:  12 [ 6000/ 8000 ( 75%)] Training Loss:  0.038248\n"
     ]
    },
    {
     "name": "stdout",
     "output_type": "stream",
     "text": [
      "Epoch:  12 [ 6500/ 8000 ( 81%)] Training Loss:  0.242998\n"
     ]
    },
    {
     "name": "stdout",
     "output_type": "stream",
     "text": [
      "Epoch:  12 [ 7000/ 8000 ( 88%)] Training Loss:  0.244771\n"
     ]
    },
    {
     "name": "stdout",
     "output_type": "stream",
     "text": [
      "Epoch:  12 [ 7500/ 8000 ( 94%)] Training Loss:  0.269640\n"
     ]
    },
    {
     "name": "stdout",
     "output_type": "stream",
     "text": [
      "Test loss: 0.1830\n",
      "Epoch:  13 [    0/ 8000 (  0%)] Training Loss:  0.186747\n"
     ]
    },
    {
     "name": "stdout",
     "output_type": "stream",
     "text": [
      "Epoch:  13 [  500/ 8000 (  6%)] Training Loss:  0.328821\n"
     ]
    },
    {
     "name": "stdout",
     "output_type": "stream",
     "text": [
      "Epoch:  13 [ 1000/ 8000 ( 12%)] Training Loss:  0.153123\n"
     ]
    },
    {
     "name": "stdout",
     "output_type": "stream",
     "text": [
      "Epoch:  13 [ 1500/ 8000 ( 19%)] Training Loss:  0.108869\n"
     ]
    },
    {
     "name": "stdout",
     "output_type": "stream",
     "text": [
      "Epoch:  13 [ 2000/ 8000 ( 25%)] Training Loss:  0.257631\n"
     ]
    },
    {
     "name": "stdout",
     "output_type": "stream",
     "text": [
      "Epoch:  13 [ 2500/ 8000 ( 31%)] Training Loss:  0.141544\n"
     ]
    },
    {
     "name": "stdout",
     "output_type": "stream",
     "text": [
      "Epoch:  13 [ 3000/ 8000 ( 38%)] Training Loss:  0.260475\n"
     ]
    },
    {
     "name": "stdout",
     "output_type": "stream",
     "text": [
      "Epoch:  13 [ 3500/ 8000 ( 44%)] Training Loss:  0.171047\n"
     ]
    },
    {
     "name": "stdout",
     "output_type": "stream",
     "text": [
      "Epoch:  13 [ 4000/ 8000 ( 50%)] Training Loss:  0.015325\n"
     ]
    },
    {
     "name": "stdout",
     "output_type": "stream",
     "text": [
      "Epoch:  13 [ 4500/ 8000 ( 56%)] Training Loss:  0.340913\n"
     ]
    },
    {
     "name": "stdout",
     "output_type": "stream",
     "text": [
      "Epoch:  13 [ 5000/ 8000 ( 62%)] Training Loss:  0.221867\n"
     ]
    },
    {
     "name": "stdout",
     "output_type": "stream",
     "text": [
      "Epoch:  13 [ 5500/ 8000 ( 69%)] Training Loss:  0.302691\n"
     ]
    },
    {
     "name": "stdout",
     "output_type": "stream",
     "text": [
      "Epoch:  13 [ 6000/ 8000 ( 75%)] Training Loss:  0.039959\n"
     ]
    },
    {
     "name": "stdout",
     "output_type": "stream",
     "text": [
      "Epoch:  13 [ 6500/ 8000 ( 81%)] Training Loss:  0.223356\n"
     ]
    },
    {
     "name": "stdout",
     "output_type": "stream",
     "text": [
      "Epoch:  13 [ 7000/ 8000 ( 88%)] Training Loss:  0.178487\n"
     ]
    },
    {
     "name": "stdout",
     "output_type": "stream",
     "text": [
      "Epoch:  13 [ 7500/ 8000 ( 94%)] Training Loss:  0.207351\n"
     ]
    },
    {
     "name": "stdout",
     "output_type": "stream",
     "text": [
      "Test loss: 0.1710\n",
      "Epoch:  14 [    0/ 8000 (  0%)] Training Loss:  0.184514\n"
     ]
    },
    {
     "name": "stdout",
     "output_type": "stream",
     "text": [
      "Epoch:  14 [  500/ 8000 (  6%)] Training Loss:  0.320723\n"
     ]
    },
    {
     "name": "stdout",
     "output_type": "stream",
     "text": [
      "Epoch:  14 [ 1000/ 8000 ( 12%)] Training Loss:  0.145266\n"
     ]
    },
    {
     "name": "stdout",
     "output_type": "stream",
     "text": [
      "Epoch:  14 [ 1500/ 8000 ( 19%)] Training Loss:  0.098035\n"
     ]
    },
    {
     "name": "stdout",
     "output_type": "stream",
     "text": [
      "Epoch:  14 [ 2000/ 8000 ( 25%)] Training Loss:  0.219390\n"
     ]
    },
    {
     "name": "stdout",
     "output_type": "stream",
     "text": [
      "Epoch:  14 [ 2500/ 8000 ( 31%)] Training Loss:  0.043216\n"
     ]
    },
    {
     "name": "stdout",
     "output_type": "stream",
     "text": [
      "Epoch:  14 [ 3000/ 8000 ( 38%)] Training Loss:  0.258917\n"
     ]
    },
    {
     "name": "stdout",
     "output_type": "stream",
     "text": [
      "Epoch:  14 [ 3500/ 8000 ( 44%)] Training Loss:  0.177623\n"
     ]
    },
    {
     "name": "stdout",
     "output_type": "stream",
     "text": [
      "Epoch:  14 [ 4000/ 8000 ( 50%)] Training Loss:  0.018683\n"
     ]
    },
    {
     "name": "stdout",
     "output_type": "stream",
     "text": [
      "Epoch:  14 [ 4500/ 8000 ( 56%)] Training Loss:  0.321617\n"
     ]
    },
    {
     "name": "stdout",
     "output_type": "stream",
     "text": [
      "Epoch:  14 [ 5000/ 8000 ( 62%)] Training Loss:  0.298061\n"
     ]
    },
    {
     "name": "stdout",
     "output_type": "stream",
     "text": [
      "Epoch:  14 [ 5500/ 8000 ( 69%)] Training Loss:  0.221937\n"
     ]
    },
    {
     "name": "stdout",
     "output_type": "stream",
     "text": [
      "Epoch:  14 [ 6000/ 8000 ( 75%)] Training Loss:  0.022262\n"
     ]
    },
    {
     "name": "stdout",
     "output_type": "stream",
     "text": [
      "Epoch:  14 [ 6500/ 8000 ( 81%)] Training Loss:  0.252438\n"
     ]
    },
    {
     "name": "stdout",
     "output_type": "stream",
     "text": [
      "Epoch:  14 [ 7000/ 8000 ( 88%)] Training Loss:  0.232324\n"
     ]
    },
    {
     "name": "stdout",
     "output_type": "stream",
     "text": [
      "Epoch:  14 [ 7500/ 8000 ( 94%)] Training Loss:  0.227102\n"
     ]
    },
    {
     "name": "stdout",
     "output_type": "stream",
     "text": [
      "Test loss: 0.1636\n",
      "Epoch:  15 [    0/ 8000 (  0%)] Training Loss:  0.220585\n"
     ]
    },
    {
     "name": "stdout",
     "output_type": "stream",
     "text": [
      "Epoch:  15 [  500/ 8000 (  6%)] Training Loss:  0.308488\n"
     ]
    },
    {
     "name": "stdout",
     "output_type": "stream",
     "text": [
      "Epoch:  15 [ 1000/ 8000 ( 12%)] Training Loss:  0.170905\n"
     ]
    },
    {
     "name": "stdout",
     "output_type": "stream",
     "text": [
      "Epoch:  15 [ 1500/ 8000 ( 19%)] Training Loss:  0.106915\n"
     ]
    },
    {
     "name": "stdout",
     "output_type": "stream",
     "text": [
      "Epoch:  15 [ 2000/ 8000 ( 25%)] Training Loss:  0.224367\n"
     ]
    },
    {
     "name": "stdout",
     "output_type": "stream",
     "text": [
      "Epoch:  15 [ 2500/ 8000 ( 31%)] Training Loss:  0.120642\n"
     ]
    },
    {
     "name": "stdout",
     "output_type": "stream",
     "text": [
      "Epoch:  15 [ 3000/ 8000 ( 38%)] Training Loss:  0.250475\n"
     ]
    },
    {
     "name": "stdout",
     "output_type": "stream",
     "text": [
      "Epoch:  15 [ 3500/ 8000 ( 44%)] Training Loss:  0.170506\n"
     ]
    },
    {
     "name": "stdout",
     "output_type": "stream",
     "text": [
      "Epoch:  15 [ 4000/ 8000 ( 50%)] Training Loss:  0.023384\n"
     ]
    },
    {
     "name": "stdout",
     "output_type": "stream",
     "text": [
      "Epoch:  15 [ 4500/ 8000 ( 56%)] Training Loss:  0.263970\n"
     ]
    },
    {
     "name": "stdout",
     "output_type": "stream",
     "text": [
      "Epoch:  15 [ 5000/ 8000 ( 62%)] Training Loss:  0.274798\n"
     ]
    },
    {
     "name": "stdout",
     "output_type": "stream",
     "text": [
      "Epoch:  15 [ 5500/ 8000 ( 69%)] Training Loss:  0.236568\n"
     ]
    },
    {
     "name": "stdout",
     "output_type": "stream",
     "text": [
      "Epoch:  15 [ 6000/ 8000 ( 75%)] Training Loss:  0.003615\n"
     ]
    },
    {
     "name": "stdout",
     "output_type": "stream",
     "text": [
      "Epoch:  15 [ 6500/ 8000 ( 81%)] Training Loss:  0.208258\n"
     ]
    },
    {
     "name": "stdout",
     "output_type": "stream",
     "text": [
      "Epoch:  15 [ 7000/ 8000 ( 88%)] Training Loss:  0.232558\n"
     ]
    },
    {
     "name": "stdout",
     "output_type": "stream",
     "text": [
      "Epoch:  15 [ 7500/ 8000 ( 94%)] Training Loss:  0.232522\n"
     ]
    },
    {
     "name": "stdout",
     "output_type": "stream",
     "text": [
      "Test loss: 0.1546\n",
      "Epoch:  16 [    0/ 8000 (  0%)] Training Loss:  0.267334\n"
     ]
    },
    {
     "name": "stdout",
     "output_type": "stream",
     "text": [
      "Epoch:  16 [  500/ 8000 (  6%)] Training Loss:  0.313345\n"
     ]
    },
    {
     "name": "stdout",
     "output_type": "stream",
     "text": [
      "Epoch:  16 [ 1000/ 8000 ( 12%)] Training Loss:  0.155407\n"
     ]
    },
    {
     "name": "stdout",
     "output_type": "stream",
     "text": [
      "Epoch:  16 [ 1500/ 8000 ( 19%)] Training Loss:  0.088002\n"
     ]
    },
    {
     "name": "stdout",
     "output_type": "stream",
     "text": [
      "Epoch:  16 [ 2000/ 8000 ( 25%)] Training Loss:  0.168831\n"
     ]
    },
    {
     "name": "stdout",
     "output_type": "stream",
     "text": [
      "Epoch:  16 [ 2500/ 8000 ( 31%)] Training Loss:  0.074557\n"
     ]
    },
    {
     "name": "stdout",
     "output_type": "stream",
     "text": [
      "Epoch:  16 [ 3000/ 8000 ( 38%)] Training Loss:  0.264558\n"
     ]
    },
    {
     "name": "stdout",
     "output_type": "stream",
     "text": [
      "Epoch:  16 [ 3500/ 8000 ( 44%)] Training Loss:  0.135820\n"
     ]
    },
    {
     "name": "stdout",
     "output_type": "stream",
     "text": [
      "Epoch:  16 [ 4000/ 8000 ( 50%)] Training Loss:  0.029167\n"
     ]
    },
    {
     "name": "stdout",
     "output_type": "stream",
     "text": [
      "Epoch:  16 [ 4500/ 8000 ( 56%)] Training Loss:  0.288098\n"
     ]
    },
    {
     "name": "stdout",
     "output_type": "stream",
     "text": [
      "Epoch:  16 [ 5000/ 8000 ( 62%)] Training Loss:  0.258994\n"
     ]
    },
    {
     "name": "stdout",
     "output_type": "stream",
     "text": [
      "Epoch:  16 [ 5500/ 8000 ( 69%)] Training Loss:  0.280464\n"
     ]
    },
    {
     "name": "stdout",
     "output_type": "stream",
     "text": [
      "Epoch:  16 [ 6000/ 8000 ( 75%)] Training Loss:  0.068615\n"
     ]
    },
    {
     "name": "stdout",
     "output_type": "stream",
     "text": [
      "Epoch:  16 [ 6500/ 8000 ( 81%)] Training Loss:  0.211652\n"
     ]
    },
    {
     "name": "stdout",
     "output_type": "stream",
     "text": [
      "Epoch:  16 [ 7000/ 8000 ( 88%)] Training Loss:  0.208525\n"
     ]
    },
    {
     "name": "stdout",
     "output_type": "stream",
     "text": [
      "Epoch:  16 [ 7500/ 8000 ( 94%)] Training Loss:  0.274456\n"
     ]
    },
    {
     "name": "stdout",
     "output_type": "stream",
     "text": [
      "Test loss: 0.1454\n",
      "Epoch:  17 [    0/ 8000 (  0%)] Training Loss:  0.252409\n"
     ]
    },
    {
     "name": "stdout",
     "output_type": "stream",
     "text": [
      "Epoch:  17 [  500/ 8000 (  6%)] Training Loss:  0.346439\n"
     ]
    },
    {
     "name": "stdout",
     "output_type": "stream",
     "text": [
      "Epoch:  17 [ 1000/ 8000 ( 12%)] Training Loss:  0.082718\n"
     ]
    },
    {
     "name": "stdout",
     "output_type": "stream",
     "text": [
      "Epoch:  17 [ 1500/ 8000 ( 19%)] Training Loss:  0.016846\n"
     ]
    },
    {
     "name": "stdout",
     "output_type": "stream",
     "text": [
      "Epoch:  17 [ 2000/ 8000 ( 25%)] Training Loss:  0.223700\n"
     ]
    },
    {
     "name": "stdout",
     "output_type": "stream",
     "text": [
      "Epoch:  17 [ 2500/ 8000 ( 31%)] Training Loss:  0.058964\n"
     ]
    },
    {
     "name": "stdout",
     "output_type": "stream",
     "text": [
      "Epoch:  17 [ 3000/ 8000 ( 38%)] Training Loss:  0.246388\n"
     ]
    },
    {
     "name": "stdout",
     "output_type": "stream",
     "text": [
      "Epoch:  17 [ 3500/ 8000 ( 44%)] Training Loss:  0.185188\n"
     ]
    },
    {
     "name": "stdout",
     "output_type": "stream",
     "text": [
      "Epoch:  17 [ 4000/ 8000 ( 50%)] Training Loss:  0.003403\n"
     ]
    },
    {
     "name": "stdout",
     "output_type": "stream",
     "text": [
      "Epoch:  17 [ 4500/ 8000 ( 56%)] Training Loss:  0.316264\n"
     ]
    },
    {
     "name": "stdout",
     "output_type": "stream",
     "text": [
      "Epoch:  17 [ 5000/ 8000 ( 62%)] Training Loss:  0.316291\n"
     ]
    },
    {
     "name": "stdout",
     "output_type": "stream",
     "text": [
      "Epoch:  17 [ 5500/ 8000 ( 69%)] Training Loss:  0.273281\n"
     ]
    },
    {
     "name": "stdout",
     "output_type": "stream",
     "text": [
      "Epoch:  17 [ 6000/ 8000 ( 75%)] Training Loss: -0.008495\n"
     ]
    },
    {
     "name": "stdout",
     "output_type": "stream",
     "text": [
      "Epoch:  17 [ 6500/ 8000 ( 81%)] Training Loss:  0.204137\n"
     ]
    },
    {
     "name": "stdout",
     "output_type": "stream",
     "text": [
      "Epoch:  17 [ 7000/ 8000 ( 88%)] Training Loss:  0.183708\n"
     ]
    },
    {
     "name": "stdout",
     "output_type": "stream",
     "text": [
      "Epoch:  17 [ 7500/ 8000 ( 94%)] Training Loss:  0.204157\n"
     ]
    },
    {
     "name": "stdout",
     "output_type": "stream",
     "text": [
      "Test loss: 0.1356\n",
      "Epoch:  18 [    0/ 8000 (  0%)] Training Loss:  0.214294\n"
     ]
    },
    {
     "name": "stdout",
     "output_type": "stream",
     "text": [
      "Epoch:  18 [  500/ 8000 (  6%)] Training Loss:  0.264618\n"
     ]
    },
    {
     "name": "stdout",
     "output_type": "stream",
     "text": [
      "Epoch:  18 [ 1000/ 8000 ( 12%)] Training Loss:  0.118414\n"
     ]
    },
    {
     "name": "stdout",
     "output_type": "stream",
     "text": [
      "Epoch:  18 [ 1500/ 8000 ( 19%)] Training Loss:  0.028611\n"
     ]
    },
    {
     "name": "stdout",
     "output_type": "stream",
     "text": [
      "Epoch:  18 [ 2000/ 8000 ( 25%)] Training Loss:  0.226510\n"
     ]
    },
    {
     "name": "stdout",
     "output_type": "stream",
     "text": [
      "Epoch:  18 [ 2500/ 8000 ( 31%)] Training Loss:  0.065674\n"
     ]
    },
    {
     "name": "stdout",
     "output_type": "stream",
     "text": [
      "Epoch:  18 [ 3000/ 8000 ( 38%)] Training Loss:  0.198359\n"
     ]
    },
    {
     "name": "stdout",
     "output_type": "stream",
     "text": [
      "Epoch:  18 [ 3500/ 8000 ( 44%)] Training Loss:  0.114771\n"
     ]
    },
    {
     "name": "stdout",
     "output_type": "stream",
     "text": [
      "Epoch:  18 [ 4000/ 8000 ( 50%)] Training Loss:  0.000107\n"
     ]
    },
    {
     "name": "stdout",
     "output_type": "stream",
     "text": [
      "Epoch:  18 [ 4500/ 8000 ( 56%)] Training Loss:  0.331509\n"
     ]
    },
    {
     "name": "stdout",
     "output_type": "stream",
     "text": [
      "Epoch:  18 [ 5000/ 8000 ( 62%)] Training Loss:  0.289340\n"
     ]
    },
    {
     "name": "stdout",
     "output_type": "stream",
     "text": [
      "Epoch:  18 [ 5500/ 8000 ( 69%)] Training Loss:  0.275291\n"
     ]
    },
    {
     "name": "stdout",
     "output_type": "stream",
     "text": [
      "Epoch:  18 [ 6000/ 8000 ( 75%)] Training Loss: -0.024939\n"
     ]
    },
    {
     "name": "stdout",
     "output_type": "stream",
     "text": [
      "Epoch:  18 [ 6500/ 8000 ( 81%)] Training Loss:  0.160678\n"
     ]
    },
    {
     "name": "stdout",
     "output_type": "stream",
     "text": [
      "Epoch:  18 [ 7000/ 8000 ( 88%)] Training Loss:  0.228051\n"
     ]
    },
    {
     "name": "stdout",
     "output_type": "stream",
     "text": [
      "Epoch:  18 [ 7500/ 8000 ( 94%)] Training Loss:  0.181976\n"
     ]
    },
    {
     "name": "stdout",
     "output_type": "stream",
     "text": [
      "Test loss: 0.1210\n",
      "Epoch:  19 [    0/ 8000 (  0%)] Training Loss:  0.347059\n"
     ]
    },
    {
     "name": "stdout",
     "output_type": "stream",
     "text": [
      "Epoch:  19 [  500/ 8000 (  6%)] Training Loss:  0.312782\n"
     ]
    },
    {
     "name": "stdout",
     "output_type": "stream",
     "text": [
      "Epoch:  19 [ 1000/ 8000 ( 12%)] Training Loss:  0.053068\n"
     ]
    },
    {
     "name": "stdout",
     "output_type": "stream",
     "text": [
      "Epoch:  19 [ 1500/ 8000 ( 19%)] Training Loss:  0.050921\n"
     ]
    },
    {
     "name": "stdout",
     "output_type": "stream",
     "text": [
      "Epoch:  19 [ 2000/ 8000 ( 25%)] Training Loss:  0.097798\n"
     ]
    },
    {
     "name": "stdout",
     "output_type": "stream",
     "text": [
      "Epoch:  19 [ 2500/ 8000 ( 31%)] Training Loss:  0.116656\n"
     ]
    },
    {
     "name": "stdout",
     "output_type": "stream",
     "text": [
      "Epoch:  19 [ 3000/ 8000 ( 38%)] Training Loss:  0.170591\n"
     ]
    },
    {
     "name": "stdout",
     "output_type": "stream",
     "text": [
      "Epoch:  19 [ 3500/ 8000 ( 44%)] Training Loss:  0.171495\n"
     ]
    },
    {
     "name": "stdout",
     "output_type": "stream",
     "text": [
      "Epoch:  19 [ 4000/ 8000 ( 50%)] Training Loss: -0.028286\n"
     ]
    },
    {
     "name": "stdout",
     "output_type": "stream",
     "text": [
      "Epoch:  19 [ 4500/ 8000 ( 56%)] Training Loss:  0.268572\n"
     ]
    },
    {
     "name": "stdout",
     "output_type": "stream",
     "text": [
      "Epoch:  19 [ 5000/ 8000 ( 62%)] Training Loss:  0.315440\n"
     ]
    },
    {
     "name": "stdout",
     "output_type": "stream",
     "text": [
      "Epoch:  19 [ 5500/ 8000 ( 69%)] Training Loss:  0.179195\n"
     ]
    },
    {
     "name": "stdout",
     "output_type": "stream",
     "text": [
      "Epoch:  19 [ 6000/ 8000 ( 75%)] Training Loss: -0.035189\n"
     ]
    },
    {
     "name": "stdout",
     "output_type": "stream",
     "text": [
      "Epoch:  19 [ 6500/ 8000 ( 81%)] Training Loss:  0.169484\n"
     ]
    },
    {
     "name": "stdout",
     "output_type": "stream",
     "text": [
      "Epoch:  19 [ 7000/ 8000 ( 88%)] Training Loss:  0.163280\n"
     ]
    },
    {
     "name": "stdout",
     "output_type": "stream",
     "text": [
      "Epoch:  19 [ 7500/ 8000 ( 94%)] Training Loss:  0.118794\n"
     ]
    },
    {
     "name": "stdout",
     "output_type": "stream",
     "text": [
      "Test loss: 0.1101\n",
      "Epoch:  20 [    0/ 8000 (  0%)] Training Loss:  0.242851\n"
     ]
    },
    {
     "name": "stdout",
     "output_type": "stream",
     "text": [
      "Epoch:  20 [  500/ 8000 (  6%)] Training Loss:  0.256537\n"
     ]
    },
    {
     "name": "stdout",
     "output_type": "stream",
     "text": [
      "Epoch:  20 [ 1000/ 8000 ( 12%)] Training Loss:  0.111477\n"
     ]
    },
    {
     "name": "stdout",
     "output_type": "stream",
     "text": [
      "Epoch:  20 [ 1500/ 8000 ( 19%)] Training Loss:  0.021284\n"
     ]
    },
    {
     "name": "stdout",
     "output_type": "stream",
     "text": [
      "Epoch:  20 [ 2000/ 8000 ( 25%)] Training Loss:  0.116904\n"
     ]
    },
    {
     "name": "stdout",
     "output_type": "stream",
     "text": [
      "Epoch:  20 [ 2500/ 8000 ( 31%)] Training Loss:  0.081162\n"
     ]
    },
    {
     "name": "stdout",
     "output_type": "stream",
     "text": [
      "Epoch:  20 [ 3000/ 8000 ( 38%)] Training Loss:  0.311807\n"
     ]
    },
    {
     "name": "stdout",
     "output_type": "stream",
     "text": [
      "Epoch:  20 [ 3500/ 8000 ( 44%)] Training Loss:  0.119477\n"
     ]
    },
    {
     "name": "stdout",
     "output_type": "stream",
     "text": [
      "Epoch:  20 [ 4000/ 8000 ( 50%)] Training Loss: -0.040711\n"
     ]
    },
    {
     "name": "stdout",
     "output_type": "stream",
     "text": [
      "Epoch:  20 [ 4500/ 8000 ( 56%)] Training Loss:  0.269962\n"
     ]
    },
    {
     "name": "stdout",
     "output_type": "stream",
     "text": [
      "Epoch:  20 [ 5000/ 8000 ( 62%)] Training Loss:  0.333823\n"
     ]
    },
    {
     "name": "stdout",
     "output_type": "stream",
     "text": [
      "Epoch:  20 [ 5500/ 8000 ( 69%)] Training Loss:  0.193534\n"
     ]
    },
    {
     "name": "stdout",
     "output_type": "stream",
     "text": [
      "Epoch:  20 [ 6000/ 8000 ( 75%)] Training Loss: -0.118823\n"
     ]
    },
    {
     "name": "stdout",
     "output_type": "stream",
     "text": [
      "Epoch:  20 [ 6500/ 8000 ( 81%)] Training Loss:  0.208642\n"
     ]
    },
    {
     "name": "stdout",
     "output_type": "stream",
     "text": [
      "Epoch:  20 [ 7000/ 8000 ( 88%)] Training Loss:  0.161853\n"
     ]
    },
    {
     "name": "stdout",
     "output_type": "stream",
     "text": [
      "Epoch:  20 [ 7500/ 8000 ( 94%)] Training Loss:  0.138950\n"
     ]
    },
    {
     "name": "stdout",
     "output_type": "stream",
     "text": [
      "Test loss: 0.1066\n"
     ]
    }
   ],
   "source": [
    "# Initialize CNN\n",
    "model = ConvNet(c=filters)\n",
    "\n",
    "# Train CNN\n",
    "weights, train_p_loss, val_p_loss = train(model, train_loader, valid_loader,\n",
    "    early_stopping_patience=10, num_epochs=num_epochs)"
   ]
  },
  {
   "cell_type": "markdown",
   "id": "bbed6fee-f76a-4bc8-a60e-40719a00287a",
   "metadata": {},
   "source": [
    "Now that the CNN is trained, we should take a look at the \"learning curves,\" or the loss over time."
   ]
  },
  {
   "cell_type": "code",
   "execution_count": 11,
   "id": "c9529bea-c8f8-41cb-86d3-d161d6f9b0a4",
   "metadata": {
    "execution": {
     "iopub.execute_input": "2025-08-26T15:57:40.973722Z",
     "iopub.status.busy": "2025-08-26T15:57:40.973455Z",
     "iopub.status.idle": "2025-08-26T15:57:41.081483Z",
     "shell.execute_reply": "2025-08-26T15:57:41.080978Z"
    }
   },
   "outputs": [
    {
     "data": {
      "image/png": "[encoded data removed]",
      "text/plain": [
       "<Figure size 640x480 with 1 Axes>"
      ]
     },
     "metadata": {},
     "output_type": "display_data"
    }
   ],
   "source": [
    "plt.figure()\n",
    "plt.plot(train_p_loss, label=\"Training Loss\")\n",
    "plt.plot(val_p_loss, label=\"Validation Loss\")\n",
    "plt.xlabel(\"Epoch\")\n",
    "plt.ylabel(\"Loss\")\n",
    "plt.legend();"
   ]
  },
  {
   "cell_type": "markdown",
   "id": "8aceb260-aa09-48b5-93fc-16d71665f042",
   "metadata": {},
   "source": [
    "For this exercise, we only trained on a small subset of the training data, and for a limited number of training epochs. This means that the CNN hasn't yet reached a plateau, and it's not fully trained. You will see better performance by training for more epochs (until the loss values plateau), which you can configure back in [Section 0](#0.configure-training-run) by changing `num_epochs`. You can also train on a larger piece of the training data by configuring `max_n` in the same cell. "
   ]
  },
  {
   "attachments": {},
   "cell_type": "markdown",
   "id": "fdb25753",
   "metadata": {},
   "source": [
    "## 5. Test the CNN performance\n",
    "\n",
    "Now we use the trained CNN to predict stellar rotation periods from a held-out test set, and compare the predictions to the true values. \n",
    "\n",
    "Since we're only training over a small fraction of the training set in this tutorial, we don't expect the predictions to match the true values. You will see better performance by training on a larger piece (or all) of the training set, or training for more epochs, by configuring `max_n` or `num_epochs` back in [Section 0](#0.configure-training-run)."
   ]
  },
  {
   "cell_type": "code",
   "execution_count": 12,
   "id": "ad00a877",
   "metadata": {
    "execution": {
     "iopub.execute_input": "2025-08-26T15:57:41.083208Z",
     "iopub.status.busy": "2025-08-26T15:57:41.083049Z",
     "iopub.status.idle": "2025-08-26T15:57:41.312945Z",
     "shell.execute_reply": "2025-08-26T15:57:41.312361Z"
    }
   },
   "outputs": [
    {
     "name": "stdout",
     "output_type": "stream",
     "text": [
      "Test loss: 0.0655\n"
     ]
    }
   ],
   "source": [
    "# evaluate CNN to infer rotation periods\n",
    "test_loader = torch.utils.data.DataLoader(test_dataset, batch_size=50)\n",
    "test_loss, preds, trues = evaluate(model, test_loader, verbose=True, return_predictions=True)"
   ]
  },
  {
   "cell_type": "code",
   "execution_count": 13,
   "id": "26265fdd-5f9e-45e7-b911-076413d854ac",
   "metadata": {
    "execution": {
     "iopub.execute_input": "2025-08-26T15:57:41.314667Z",
     "iopub.status.busy": "2025-08-26T15:57:41.314488Z",
     "iopub.status.idle": "2025-08-26T15:57:41.494265Z",
     "shell.execute_reply": "2025-08-26T15:57:41.493707Z"
    }
   },
   "outputs": [
    {
     "data": {
      "image/png": "[encoded data removed]",
      "text/plain": [
       "<Figure size 640x480 with 2 Axes>"
      ]
     },
     "metadata": {},
     "output_type": "display_data"
    }
   ],
   "source": [
    "# compare the CNN predictions to the true values\n",
    "%matplotlib inline\n",
    "\n",
    "true_periods = trues*test_dataset.pmax\n",
    "pred_periods = preds[:, 0]*test_dataset.pmax\n",
    "pred_sigma = preds[:, 1]*test_dataset.pmax\n",
    "\n",
    "plt.scatter(true_periods, pred_periods, c=pred_sigma)\n",
    "plt.plot([0, 180], [0, 180], \"k\")\n",
    "plt.xlabel(\"True Period (days)\")\n",
    "plt.ylabel(\"Predicted Period (days)\")\n",
    "plt.colorbar(label=\"Predicted Period Uncertainty (days)\");"
   ]
  },
  {
   "cell_type": "markdown",
   "id": "bf21f86d-f35a-49e1-9175-bba8672a40a7",
   "metadata": {},
   "source": [
    "Most of the data are predicted to have the median period of 90 days, which is the best guess when the CNN doesn't know better. We also predicted the uncertainty in the period, so let's see what that looks like."
   ]
  },
  {
   "cell_type": "code",
   "execution_count": 14,
   "id": "6ee0fc3e-cba3-4a0b-ae00-d7bd0a71327c",
   "metadata": {
    "execution": {
     "iopub.execute_input": "2025-08-26T15:57:41.495964Z",
     "iopub.status.busy": "2025-08-26T15:57:41.495803Z",
     "iopub.status.idle": "2025-08-26T15:57:41.711249Z",
     "shell.execute_reply": "2025-08-26T15:57:41.710768Z"
    }
   },
   "outputs": [
    {
     "data": {
      "image/png": "[encoded data removed]",
      "text/plain": [
       "<Figure size 640x480 with 1 Axes>"
      ]
     },
     "metadata": {},
     "output_type": "display_data"
    },
    {
     "data": {
      "image/png": "[encoded data removed]",
      "text/plain": [
       "<Figure size 640x480 with 1 Axes>"
      ]
     },
     "metadata": {},
     "output_type": "display_data"
    }
   ],
   "source": [
    "sigmas = preds[:, 1]*test_dataset.pmax\n",
    "frac = sigmas/pred_periods\n",
    "\n",
    "plt.figure()\n",
    "plt.hist(sigmas, bins=20)\n",
    "plt.xlabel(\"Predicted Period Uncertainty (days)\")\n",
    "\n",
    "plt.figure()\n",
    "plt.hist(frac, bins=20)\n",
    "plt.xlabel(\"Fractional Period Uncertainty\");"
   ]
  },
  {
   "cell_type": "markdown",
   "id": "f68d6882-9de6-4e3f-a7b0-352a285eb94d",
   "metadata": {},
   "source": [
    "We can start to see a dip forming at sigma/period ~ 0.5 in the second plot (this dip will become more pronounced for longer training runs), so let's use that to filter the results, weeding out \"bad\" predictions."
   ]
  },
  {
   "cell_type": "code",
   "execution_count": 15,
   "id": "621c84dd-1a8f-4e55-b831-646ae4cbc9cb",
   "metadata": {
    "execution": {
     "iopub.execute_input": "2025-08-26T15:57:41.712928Z",
     "iopub.status.busy": "2025-08-26T15:57:41.712769Z",
     "iopub.status.idle": "2025-08-26T15:57:41.816564Z",
     "shell.execute_reply": "2025-08-26T15:57:41.815951Z"
    }
   },
   "outputs": [
    {
     "data": {
      "image/png": "[encoded data removed]",
      "text/plain": [
       "<Figure size 640x480 with 1 Axes>"
      ]
     },
     "metadata": {},
     "output_type": "display_data"
    }
   ],
   "source": [
    "true_filtered = true_periods[frac < 0.5]\n",
    "pred_filtered = pred_periods[frac < 0.5]\n",
    "plt.scatter(true_filtered, pred_filtered)\n",
    "plt.plot([0, 180], [0, 180], \"k\")\n",
    "plt.xlabel(\"True Period (days)\")\n",
    "plt.ylabel(\"Predicted Period (days)\");"
   ]
  },
  {
   "cell_type": "markdown",
   "id": "058fba43-4638-4967-a5f7-064d5488afaa",
   "metadata": {},
   "source": [
    "With the \"bad\" predictions filtered out, the predictions look much better, even after only 20 epochs. Remember that the uncertainty is predicted from the quality of the data, so this kind of cut can be applied to predictions on real data as well. \n",
    "\n",
    "While our loss function can serve as a metric of accuracy, we might also be interested in more classical accuracy metrics to measure the performance of the CNN. As an example, let's take a look at the root-mean-squared (RMS) error."
   ]
  },
  {
   "cell_type": "code",
   "execution_count": 16,
   "id": "2d9cbdfe-44f3-4dae-9da3-caea46be9258",
   "metadata": {
    "execution": {
     "iopub.execute_input": "2025-08-26T15:57:41.818316Z",
     "iopub.status.busy": "2025-08-26T15:57:41.818161Z",
     "iopub.status.idle": "2025-08-26T15:57:41.821875Z",
     "shell.execute_reply": "2025-08-26T15:57:41.821391Z"
    }
   },
   "outputs": [
    {
     "name": "stdout",
     "output_type": "stream",
     "text": [
      "Unfiltered prediction count: 1000\n",
      "RMS error: 45.67 days\n",
      "\n",
      "Filtered prediction count:   223\n",
      "RMS error: 29.18 days.\n"
     ]
    }
   ],
   "source": [
    "def rms_error(true, pred):\n",
    "    return np.sqrt(np.mean((true - pred)**2))\n",
    "\n",
    "print(f\"Unfiltered prediction count: {len(pred_periods)}\\n\"\n",
    "      f\"RMS error: {rms_error(true_periods, pred_periods):.2f} days\\n\\n\"\n",
    "      f\"Filtered prediction count:   {len(pred_filtered)}\\n\"\n",
    "      f\"RMS error: {rms_error(true_filtered, pred_filtered):.2f} days.\")"
   ]
  },
  {
   "cell_type": "markdown",
   "id": "508fe865-deac-4253-b18d-5221616e277f",
   "metadata": {},
   "source": [
    "When the predictions are filtered, we retain only a fraction of the test data, but the accuracy improves significantly. Note that\n",
    "\n",
    "- Filtering by predicted uncertainty improves the accuracy. This implies that the predicted uncertainty is a useful estimator of the true credibility of CNN predictions.\n",
    "- While only a fraction of the test set is left after filtering, remember that we trained for only 20 epochs, and on a subset of the training data. Doing a full run will improve both the accuracy of predictions *and* the number of \"good\" predictions."
   ]
  },
  {
   "cell_type": "markdown",
   "id": "265ab1b2-fb1a-4293-acc6-ddfc01f5ef14",
   "metadata": {},
   "source": [
    "## Summary\n",
    "\n",
    "CNNs are useful machine learning models that can leverage spatially correlated information in images and image-like data. CNNs trained on simulated light curve wavelet transforms make reasonable predictions of the rotation periods of TESS stars despite the complicated orbit-related systematics present in the light curves.\n",
    "\n",
    "In this tutorial, we\n",
    "1. downloaded and preprocessed training data from MAST,\n",
    "2. built a CNN using `pytorch`,\n",
    "3. defined training, validation, and evaluation functions,\n",
    "4. trained the CNN, and\n",
    "5. analyzed the CNN performance on held-out test data.\n",
    "\n",
    "We explored various machine learning and astrophysics concepts, including\n",
    "- stellar rotation with TESS light curves,\n",
    "- continuous wavelet transforms, and\n",
    "- specialized loss functions to predict values with uncertainty."
   ]
  },
  {
   "cell_type": "markdown",
   "id": "2036cd24-b3f6-4607-822c-a5b58fb2723a",
   "metadata": {},
   "source": [
    "## Next Steps\n",
    "\n",
    "Now that we've run the base case, try the following exercises:\n",
    "- train on a larger fraction of the training data by increasing `max_n`,\n",
    "- train for more epochs by increasing `num_epochs`,\n",
    "- use different train/validation/test ratios by modifying `split`,\n",
    "- use larger convolution filter depths by changing `filters`,\n",
    "- use Gaussian NLL loss to train the CNN.\n",
    "\n",
    "See how any of these choices might affect the CNN performance."
   ]
  },
  {
   "cell_type": "markdown",
   "id": "4f52bf38-11f3-4a90-8bc8-a8fdc3c65941",
   "metadata": {},
   "source": [
    "## References\n",
    "\n",
    "- [_Recovery of TESS Stellar Rotation Periods Using Deep Learning_ (Claytor et al. 2022)](https://ui.adsabs.harvard.edu/abs/2022ApJ...927..219C/abstract)\n",
    "- [_TESS Stellar Rotation up to 80 Days in the Southern Continuous Viewing Zone_ (Claytor et al. 2024)](https://ui.adsabs.harvard.edu/abs/2024ApJ...962...47C/abstract)\n",
    "- [_A Practical Guide to Wavelet Analysis_ (Torrence & Compo 1998)](https://ui.adsabs.harvard.edu/abs/1998BAMS...79...61T/abstract)\n",
    "- [Stellar Magnetism, Activity, and Rotation with Time Series (SMARTS)](https://archive.stsci.edu/hlsp/smarts)"
   ]
  }
 ],
 "metadata": {
  "kernelspec": {
   "display_name": "Python 3 (ipykernel)",
   "language": "python",
   "name": "python3"
  },
  "language_info": {
   "codemirror_mode": {
    "name": "ipython",
    "version": 3
   },
   "file_extension": ".py",
   "mimetype": "text/x-python",
   "name": "python",
   "nbconvert_exporter": "python",
   "pygments_lexer": "ipython3",
   "version": "3.11.13"
  }
 },
 "nbformat": 4,
 "nbformat_minor": 5
}
